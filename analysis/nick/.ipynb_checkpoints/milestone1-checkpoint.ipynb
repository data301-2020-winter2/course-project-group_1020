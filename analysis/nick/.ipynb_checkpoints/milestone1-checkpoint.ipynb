{
 "cells": [
  {
   "cell_type": "code",
   "execution_count": 82,
   "id": "tired-battery",
   "metadata": {},
   "outputs": [],
   "source": [
    "from pandas import *\n",
    "import collections\n",
    "\n",
    "df = read_csv(r\"/Users/Work/course-project-group_1020/data/processed/terrorism_clean.csv\", sep=',' , error_bad_lines=False, index_col=False, dtype='unicode')\n",
    "\n",
    "#print(df)"
   ]
  },
  {
   "cell_type": "code",
   "execution_count": 96,
   "id": "awful-ecology",
   "metadata": {},
   "outputs": [
    {
     "name": "stdout",
     "output_type": "stream",
     "text": [
      "Number of terrorist attacks 90 From 1970 to 2000\n",
      "\n",
      "\n",
      "Most active groupa Canada\n",
      "\n",
      "Unknown  with  45  attacks \n",
      "Jihadi-inspired extremists  with  4  attacks \n",
      "Armenian Secret Army for the Liberation of Armenia  with  4  attacks \n",
      "Army of God  with  3  attacks \n",
      "Animal Liberation Front (ALF)  with  2  attacks \n",
      "\n",
      "\n",
      "Number of deaths due to terrorism : 365.0\n",
      "\n",
      "Most common attack type\n",
      "\n",
      "Bombing/Explosion  with  41  attacks \n",
      "Facility/Infrastructure Attack  with  19  attacks \n",
      "Armed Assault  with  10  attacks \n",
      "Assassination  with  9  attacks \n",
      "Unarmed Assault  with  7  attacks \n",
      "\n",
      " \n",
      "Year of the most attacks  2017\n"
     ]
    }
   ],
   "source": [
    "def col_with_count( data, col):\n",
    "    \n",
    "    li = list()\n",
    "    for i in set( data[ col]):\n",
    "        li.append( [ i ,  len( data[data[col] == i]) ] )\n",
    "    \n",
    "    li = sorted(li, reverse=True ,key=lambda x:x[1])\n",
    "    \n",
    "    return li\n",
    "    \n",
    "\n",
    "\n",
    "\n",
    "def cont(st):\n",
    "    df2 = df[ df[\"country_txt\"] == st]\n",
    "    \n",
    "    print( \"Number of terrorist attacks\", len(df2), \"From 1970 to 2000\",end = \"\\n\" *3 ) \n",
    "    \n",
    "    \n",
    "\n",
    "    \n",
    "    groups = col_with_count(df2, \"gname\")\n",
    "    \n",
    "\n",
    "    \n",
    "    print(\"Most active groupa\", st, end = \"\\n\" * 2)\n",
    "    for i in range(0, 5):\n",
    "        print( groups[i][0], \" with \", groups[i][1], \" attacks \"  )\n",
    "    \n",
    "    print(end = \"\\n\" *2)\n",
    "    \n",
    "    \n",
    "    \n",
    "    \n",
    "    print(\"Number of deaths due to terrorism :\", sum(to_numeric(df2[\"nkill\"]).dropna()),end = \"\\n\" * 2 )\n",
    "    \n",
    "    attack = col_with_count(df2, \"attacktype_txt\")\n",
    "    \n",
    "    print(\"Most common attack type\", end = \"\\n\" *2)\n",
    "    for i in range(0, 5):\n",
    "        print( attack[i][0], \" with \", attack[i][1], \" attacks \"  )\n",
    "    \n",
    "    print( \"\\n \\nYear of the most attacks \", col_with_count(df2, \"year\")[0][0] )\n",
    "\n",
    "cont(\"Canada\")"
   ]
  },
  {
   "cell_type": "code",
   "execution_count": null,
   "id": "phantom-westminster",
   "metadata": {},
   "outputs": [],
   "source": []
  },
  {
   "cell_type": "code",
   "execution_count": null,
   "id": "attached-pierre",
   "metadata": {},
   "outputs": [],
   "source": []
  }
 ],
 "metadata": {
  "kernelspec": {
   "display_name": "Python 3",
   "language": "python",
   "name": "python3"
  },
  "language_info": {
   "codemirror_mode": {
    "name": "ipython",
    "version": 3
   },
   "file_extension": ".py",
   "mimetype": "text/x-python",
   "name": "python",
   "nbconvert_exporter": "python",
   "pygments_lexer": "ipython3",
   "version": "3.8.0"
  }
 },
 "nbformat": 4,
 "nbformat_minor": 5
}
