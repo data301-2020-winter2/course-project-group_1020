{
 "cells": [
  {
   "cell_type": "markdown",
   "id": "sublime-needle",
   "metadata": {},
   "source": [
    "# Nicholas EDA "
   ]
  },
  {
   "cell_type": "code",
   "execution_count": null,
   "id": "liquid-finding",
   "metadata": {},
   "outputs": [],
   "source": [
    "Set up "
   ]
  },
  {
   "cell_type": "code",
   "execution_count": 12,
   "id": "pursuant-inspection",
   "metadata": {},
   "outputs": [],
   "source": [
    "import numpy as np\n",
    "import pandas as pd \n",
    "import matplotlib as plt\n",
    "import seaborn as sns\n",
    "from pandas_profiling import ProfileReport\n",
    "\n",
    "import importlib.util\n",
    "spec = importlib.util.spec_from_file_location(\"project_functions\", \"/Users/Work/Data Science/course-project-group_1020/analysis/scripts/project_functions.py\")\n",
    "foo = importlib.util.module_from_spec(spec)\n",
    "spec.loader.exec_module(foo)\n",
    "\n",
    "\n",
    "\n",
    "sns.set_theme( style = \"darkgrid\" )"
   ]
  },
  {
   "cell_type": "code",
   "execution_count": null,
   "id": "statewide-serial",
   "metadata": {},
   "outputs": [],
   "source": []
  }
 ],
 "metadata": {
  "kernelspec": {
   "display_name": "Python 3",
   "language": "python",
   "name": "python3"
  },
  "language_info": {
   "codemirror_mode": {
    "name": "ipython",
    "version": 3
   },
   "file_extension": ".py",
   "mimetype": "text/x-python",
   "name": "python",
   "nbconvert_exporter": "python",
   "pygments_lexer": "ipython3",
   "version": "3.8.0"
  }
 },
 "nbformat": 4,
 "nbformat_minor": 5
}
