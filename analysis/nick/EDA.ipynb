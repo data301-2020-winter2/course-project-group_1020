{
 "cells": [
  {
   "cell_type": "markdown",
   "id": "recovered-cathedral",
   "metadata": {},
   "source": [
    "# Nicholas EDA "
   ]
  },
  {
   "cell_type": "markdown",
   "id": "overhead-weekly",
   "metadata": {},
   "source": [
    "## Set up "
   ]
  },
  {
   "cell_type": "code",
   "execution_count": 56,
   "id": "modified-horse",
   "metadata": {},
   "outputs": [],
   "source": [
    "import numpy as np\n",
    "import pandas as pd \n",
    "import matplotlib as plt\n",
    "import seaborn as sns\n",
    "import plotly.express as px\n",
    "from pandas_profiling import ProfileReport\n",
    "\n",
    "#To Load in our project_funcitons\n",
    "import importlib.util\n",
    "spec = importlib.util.spec_from_file_location(\"project_functions\", \"/Users/Work/Data Science/course-project-group_1020/analysis/scripts/project_functions.py\")\n",
    "foo = importlib.util.module_from_spec(spec)\n",
    "spec.loader.exec_module(foo)\n",
    "df = foo.getData(r\"/Users/Work/Desktop/terrorism.csv\")\n",
    "\n",
    "\n",
    "sns.set_theme( style = \"darkgrid\" )"
   ]
  },
  {
   "cell_type": "markdown",
   "id": "embedded-respect",
   "metadata": {},
   "source": [
    "## Part(1): Quick peak.\n",
    "**Now let us take a peek at our data. Starting with the head.**"
   ]
  },
  {
   "cell_type": "code",
   "execution_count": 3,
   "id": "conditional-vacuum",
   "metadata": {},
   "outputs": [
    {
     "data": {
      "text/html": [
       "<div>\n",
       "<style scoped>\n",
       "    .dataframe tbody tr th:only-of-type {\n",
       "        vertical-align: middle;\n",
       "    }\n",
       "\n",
       "    .dataframe tbody tr th {\n",
       "        vertical-align: top;\n",
       "    }\n",
       "\n",
       "    .dataframe thead th {\n",
       "        text-align: right;\n",
       "    }\n",
       "</style>\n",
       "<table border=\"1\" class=\"dataframe\">\n",
       "  <thead>\n",
       "    <tr style=\"text-align: right;\">\n",
       "      <th></th>\n",
       "      <th>id</th>\n",
       "      <th>year</th>\n",
       "      <th>month</th>\n",
       "      <th>day</th>\n",
       "      <th>country_txt</th>\n",
       "      <th>region_txt</th>\n",
       "      <th>provstate</th>\n",
       "      <th>city</th>\n",
       "      <th>latitude</th>\n",
       "      <th>longitude</th>\n",
       "      <th>...</th>\n",
       "      <th>ransom</th>\n",
       "      <th>ransomamt</th>\n",
       "      <th>ransomamtus</th>\n",
       "      <th>ransompaid</th>\n",
       "      <th>ransompaidus</th>\n",
       "      <th>ransomnote</th>\n",
       "      <th>hostkidoutcome</th>\n",
       "      <th>hostkidoutcome_txt</th>\n",
       "      <th>nreleased</th>\n",
       "      <th>dbsource</th>\n",
       "    </tr>\n",
       "  </thead>\n",
       "  <tbody>\n",
       "    <tr>\n",
       "      <th>0</th>\n",
       "      <td>197000000001</td>\n",
       "      <td>1970</td>\n",
       "      <td>7.0</td>\n",
       "      <td>2.0</td>\n",
       "      <td>Dominican Republic</td>\n",
       "      <td>Central America &amp; Caribbean</td>\n",
       "      <td>NaN</td>\n",
       "      <td>Santo Domingo</td>\n",
       "      <td>18.456792</td>\n",
       "      <td>-69.951164</td>\n",
       "      <td>...</td>\n",
       "      <td>False</td>\n",
       "      <td>NaN</td>\n",
       "      <td>NaN</td>\n",
       "      <td>NaN</td>\n",
       "      <td>NaN</td>\n",
       "      <td>NaN</td>\n",
       "      <td>NaN</td>\n",
       "      <td>NaN</td>\n",
       "      <td>NaN</td>\n",
       "      <td>PGIS</td>\n",
       "    </tr>\n",
       "    <tr>\n",
       "      <th>1</th>\n",
       "      <td>197000000002</td>\n",
       "      <td>1970</td>\n",
       "      <td>0.0</td>\n",
       "      <td>0.0</td>\n",
       "      <td>Mexico</td>\n",
       "      <td>North America</td>\n",
       "      <td>Federal</td>\n",
       "      <td>Mexico city</td>\n",
       "      <td>19.371887</td>\n",
       "      <td>-99.086624</td>\n",
       "      <td>...</td>\n",
       "      <td>True</td>\n",
       "      <td>800000.0</td>\n",
       "      <td>NaN</td>\n",
       "      <td>NaN</td>\n",
       "      <td>NaN</td>\n",
       "      <td>NaN</td>\n",
       "      <td>NaN</td>\n",
       "      <td>NaN</td>\n",
       "      <td>NaN</td>\n",
       "      <td>PGIS</td>\n",
       "    </tr>\n",
       "    <tr>\n",
       "      <th>2</th>\n",
       "      <td>197001000001</td>\n",
       "      <td>1970</td>\n",
       "      <td>1.0</td>\n",
       "      <td>0.0</td>\n",
       "      <td>Philippines</td>\n",
       "      <td>Southeast Asia</td>\n",
       "      <td>Tarlac</td>\n",
       "      <td>Unknown</td>\n",
       "      <td>15.478598</td>\n",
       "      <td>120.599741</td>\n",
       "      <td>...</td>\n",
       "      <td>False</td>\n",
       "      <td>NaN</td>\n",
       "      <td>NaN</td>\n",
       "      <td>NaN</td>\n",
       "      <td>NaN</td>\n",
       "      <td>NaN</td>\n",
       "      <td>NaN</td>\n",
       "      <td>NaN</td>\n",
       "      <td>NaN</td>\n",
       "      <td>PGIS</td>\n",
       "    </tr>\n",
       "    <tr>\n",
       "      <th>3</th>\n",
       "      <td>197001000002</td>\n",
       "      <td>1970</td>\n",
       "      <td>1.0</td>\n",
       "      <td>0.0</td>\n",
       "      <td>Greece</td>\n",
       "      <td>Western Europe</td>\n",
       "      <td>Attica</td>\n",
       "      <td>Athens</td>\n",
       "      <td>37.99749</td>\n",
       "      <td>23.762728</td>\n",
       "      <td>...</td>\n",
       "      <td>False</td>\n",
       "      <td>NaN</td>\n",
       "      <td>NaN</td>\n",
       "      <td>NaN</td>\n",
       "      <td>NaN</td>\n",
       "      <td>NaN</td>\n",
       "      <td>NaN</td>\n",
       "      <td>NaN</td>\n",
       "      <td>NaN</td>\n",
       "      <td>PGIS</td>\n",
       "    </tr>\n",
       "    <tr>\n",
       "      <th>4</th>\n",
       "      <td>197001000003</td>\n",
       "      <td>1970</td>\n",
       "      <td>1.0</td>\n",
       "      <td>0.0</td>\n",
       "      <td>Japan</td>\n",
       "      <td>East Asia</td>\n",
       "      <td>Fukouka</td>\n",
       "      <td>Fukouka</td>\n",
       "      <td>33.580412</td>\n",
       "      <td>130.396361</td>\n",
       "      <td>...</td>\n",
       "      <td>False</td>\n",
       "      <td>NaN</td>\n",
       "      <td>NaN</td>\n",
       "      <td>NaN</td>\n",
       "      <td>NaN</td>\n",
       "      <td>NaN</td>\n",
       "      <td>NaN</td>\n",
       "      <td>NaN</td>\n",
       "      <td>NaN</td>\n",
       "      <td>PGIS</td>\n",
       "    </tr>\n",
       "  </tbody>\n",
       "</table>\n",
       "<p>5 rows × 51 columns</p>\n",
       "</div>"
      ],
      "text/plain": [
       "             id  year  month  day         country_txt  \\\n",
       "0  197000000001  1970    7.0  2.0  Dominican Republic   \n",
       "1  197000000002  1970    0.0  0.0              Mexico   \n",
       "2  197001000001  1970    1.0  0.0         Philippines   \n",
       "3  197001000002  1970    1.0  0.0              Greece   \n",
       "4  197001000003  1970    1.0  0.0               Japan   \n",
       "\n",
       "                    region_txt provstate           city   latitude  \\\n",
       "0  Central America & Caribbean       NaN  Santo Domingo  18.456792   \n",
       "1                North America   Federal    Mexico city  19.371887   \n",
       "2               Southeast Asia    Tarlac        Unknown  15.478598   \n",
       "3               Western Europe    Attica         Athens   37.99749   \n",
       "4                    East Asia   Fukouka        Fukouka  33.580412   \n",
       "\n",
       "    longitude  ...  ransom ransomamt  ransomamtus  ransompaid  ransompaidus  \\\n",
       "0  -69.951164  ...   False       NaN          NaN         NaN           NaN   \n",
       "1  -99.086624  ...    True  800000.0          NaN         NaN           NaN   \n",
       "2  120.599741  ...   False       NaN          NaN         NaN           NaN   \n",
       "3   23.762728  ...   False       NaN          NaN         NaN           NaN   \n",
       "4  130.396361  ...   False       NaN          NaN         NaN           NaN   \n",
       "\n",
       "   ransomnote hostkidoutcome hostkidoutcome_txt nreleased dbsource  \n",
       "0         NaN            NaN                NaN       NaN     PGIS  \n",
       "1         NaN            NaN                NaN       NaN     PGIS  \n",
       "2         NaN            NaN                NaN       NaN     PGIS  \n",
       "3         NaN            NaN                NaN       NaN     PGIS  \n",
       "4         NaN            NaN                NaN       NaN     PGIS  \n",
       "\n",
       "[5 rows x 51 columns]"
      ]
     },
     "execution_count": 3,
     "metadata": {},
     "output_type": "execute_result"
    }
   ],
   "source": [
    "df.head()"
   ]
  },
  {
   "cell_type": "markdown",
   "id": "according-weight",
   "metadata": {},
   "source": [
    "**Now let's look at the descriptions. Note that most of these columns are self explanatory. Yet if you need more information about a column, look at the code book under data/pdf's.**"
   ]
  },
  {
   "cell_type": "code",
   "execution_count": 4,
   "id": "democratic-challenge",
   "metadata": {},
   "outputs": [
    {
     "data": {
      "text/html": [
       "<div>\n",
       "<style scoped>\n",
       "    .dataframe tbody tr th:only-of-type {\n",
       "        vertical-align: middle;\n",
       "    }\n",
       "\n",
       "    .dataframe tbody tr th {\n",
       "        vertical-align: top;\n",
       "    }\n",
       "\n",
       "    .dataframe thead th {\n",
       "        text-align: right;\n",
       "    }\n",
       "</style>\n",
       "<table border=\"1\" class=\"dataframe\">\n",
       "  <thead>\n",
       "    <tr style=\"text-align: right;\">\n",
       "      <th></th>\n",
       "      <th>year</th>\n",
       "      <th>month</th>\n",
       "      <th>day</th>\n",
       "      <th>specificity</th>\n",
       "      <th>nperps</th>\n",
       "      <th>nkill</th>\n",
       "      <th>nkillus</th>\n",
       "      <th>nkillter</th>\n",
       "      <th>nwound</th>\n",
       "      <th>nwoundus</th>\n",
       "      <th>nwoundte</th>\n",
       "      <th>propextent</th>\n",
       "      <th>propvalue</th>\n",
       "      <th>ransomamt</th>\n",
       "      <th>ransompaid</th>\n",
       "      <th>ransompaidus</th>\n",
       "    </tr>\n",
       "  </thead>\n",
       "  <tbody>\n",
       "    <tr>\n",
       "      <th>count</th>\n",
       "      <td>181691.000000</td>\n",
       "      <td>181691.000000</td>\n",
       "      <td>181691.000000</td>\n",
       "      <td>181685.000000</td>\n",
       "      <td>28356.000000</td>\n",
       "      <td>171378.000000</td>\n",
       "      <td>117245.000000</td>\n",
       "      <td>114733.000000</td>\n",
       "      <td>165380.000000</td>\n",
       "      <td>116989.000000</td>\n",
       "      <td>112548.000000</td>\n",
       "      <td>64065.000000</td>\n",
       "      <td>1.037600e+04</td>\n",
       "      <td>1.099000e+03</td>\n",
       "      <td>4.510000e+02</td>\n",
       "      <td>528.000000</td>\n",
       "    </tr>\n",
       "    <tr>\n",
       "      <th>mean</th>\n",
       "      <td>2002.638997</td>\n",
       "      <td>6.467277</td>\n",
       "      <td>15.505644</td>\n",
       "      <td>1.451452</td>\n",
       "      <td>32.170440</td>\n",
       "      <td>2.403272</td>\n",
       "      <td>0.045981</td>\n",
       "      <td>0.508058</td>\n",
       "      <td>3.167668</td>\n",
       "      <td>0.038944</td>\n",
       "      <td>0.107163</td>\n",
       "      <td>3.295403</td>\n",
       "      <td>7.849073e+05</td>\n",
       "      <td>3.897125e+06</td>\n",
       "      <td>1.232196e+06</td>\n",
       "      <td>255.634470</td>\n",
       "    </tr>\n",
       "    <tr>\n",
       "      <th>std</th>\n",
       "      <td>13.259430</td>\n",
       "      <td>3.388303</td>\n",
       "      <td>8.814045</td>\n",
       "      <td>0.995430</td>\n",
       "      <td>412.375875</td>\n",
       "      <td>11.545741</td>\n",
       "      <td>5.681854</td>\n",
       "      <td>4.199937</td>\n",
       "      <td>35.949392</td>\n",
       "      <td>3.057361</td>\n",
       "      <td>1.488881</td>\n",
       "      <td>0.486912</td>\n",
       "      <td>3.008737e+07</td>\n",
       "      <td>3.344492e+07</td>\n",
       "      <td>1.327112e+07</td>\n",
       "      <td>3006.294428</td>\n",
       "    </tr>\n",
       "    <tr>\n",
       "      <th>min</th>\n",
       "      <td>1970.000000</td>\n",
       "      <td>0.000000</td>\n",
       "      <td>0.000000</td>\n",
       "      <td>1.000000</td>\n",
       "      <td>0.000000</td>\n",
       "      <td>0.000000</td>\n",
       "      <td>0.000000</td>\n",
       "      <td>0.000000</td>\n",
       "      <td>0.000000</td>\n",
       "      <td>0.000000</td>\n",
       "      <td>0.000000</td>\n",
       "      <td>1.000000</td>\n",
       "      <td>0.000000e+00</td>\n",
       "      <td>0.000000e+00</td>\n",
       "      <td>0.000000e+00</td>\n",
       "      <td>0.000000</td>\n",
       "    </tr>\n",
       "    <tr>\n",
       "      <th>25%</th>\n",
       "      <td>1991.000000</td>\n",
       "      <td>4.000000</td>\n",
       "      <td>8.000000</td>\n",
       "      <td>1.000000</td>\n",
       "      <td>1.000000</td>\n",
       "      <td>0.000000</td>\n",
       "      <td>0.000000</td>\n",
       "      <td>0.000000</td>\n",
       "      <td>0.000000</td>\n",
       "      <td>0.000000</td>\n",
       "      <td>0.000000</td>\n",
       "      <td>3.000000</td>\n",
       "      <td>5.000000e+03</td>\n",
       "      <td>0.000000e+00</td>\n",
       "      <td>0.000000e+00</td>\n",
       "      <td>0.000000</td>\n",
       "    </tr>\n",
       "    <tr>\n",
       "      <th>50%</th>\n",
       "      <td>2009.000000</td>\n",
       "      <td>6.000000</td>\n",
       "      <td>15.000000</td>\n",
       "      <td>1.000000</td>\n",
       "      <td>2.000000</td>\n",
       "      <td>0.000000</td>\n",
       "      <td>0.000000</td>\n",
       "      <td>0.000000</td>\n",
       "      <td>0.000000</td>\n",
       "      <td>0.000000</td>\n",
       "      <td>0.000000</td>\n",
       "      <td>3.000000</td>\n",
       "      <td>2.480000e+04</td>\n",
       "      <td>6.000000e+04</td>\n",
       "      <td>0.000000e+00</td>\n",
       "      <td>0.000000</td>\n",
       "    </tr>\n",
       "    <tr>\n",
       "      <th>75%</th>\n",
       "      <td>2014.000000</td>\n",
       "      <td>9.000000</td>\n",
       "      <td>23.000000</td>\n",
       "      <td>1.000000</td>\n",
       "      <td>6.000000</td>\n",
       "      <td>2.000000</td>\n",
       "      <td>0.000000</td>\n",
       "      <td>0.000000</td>\n",
       "      <td>2.000000</td>\n",
       "      <td>0.000000</td>\n",
       "      <td>0.000000</td>\n",
       "      <td>4.000000</td>\n",
       "      <td>5.000000e+04</td>\n",
       "      <td>6.247582e+05</td>\n",
       "      <td>7.787500e+04</td>\n",
       "      <td>0.000000</td>\n",
       "    </tr>\n",
       "    <tr>\n",
       "      <th>max</th>\n",
       "      <td>2017.000000</td>\n",
       "      <td>12.000000</td>\n",
       "      <td>31.000000</td>\n",
       "      <td>5.000000</td>\n",
       "      <td>25000.000000</td>\n",
       "      <td>1570.000000</td>\n",
       "      <td>1360.000000</td>\n",
       "      <td>500.000000</td>\n",
       "      <td>8191.000000</td>\n",
       "      <td>751.000000</td>\n",
       "      <td>200.000000</td>\n",
       "      <td>4.000000</td>\n",
       "      <td>2.700000e+09</td>\n",
       "      <td>1.000000e+09</td>\n",
       "      <td>2.750000e+08</td>\n",
       "      <td>48000.000000</td>\n",
       "    </tr>\n",
       "  </tbody>\n",
       "</table>\n",
       "</div>"
      ],
      "text/plain": [
       "                year          month            day    specificity  \\\n",
       "count  181691.000000  181691.000000  181691.000000  181685.000000   \n",
       "mean     2002.638997       6.467277      15.505644       1.451452   \n",
       "std        13.259430       3.388303       8.814045       0.995430   \n",
       "min      1970.000000       0.000000       0.000000       1.000000   \n",
       "25%      1991.000000       4.000000       8.000000       1.000000   \n",
       "50%      2009.000000       6.000000      15.000000       1.000000   \n",
       "75%      2014.000000       9.000000      23.000000       1.000000   \n",
       "max      2017.000000      12.000000      31.000000       5.000000   \n",
       "\n",
       "             nperps          nkill        nkillus       nkillter  \\\n",
       "count  28356.000000  171378.000000  117245.000000  114733.000000   \n",
       "mean      32.170440       2.403272       0.045981       0.508058   \n",
       "std      412.375875      11.545741       5.681854       4.199937   \n",
       "min        0.000000       0.000000       0.000000       0.000000   \n",
       "25%        1.000000       0.000000       0.000000       0.000000   \n",
       "50%        2.000000       0.000000       0.000000       0.000000   \n",
       "75%        6.000000       2.000000       0.000000       0.000000   \n",
       "max    25000.000000    1570.000000    1360.000000     500.000000   \n",
       "\n",
       "              nwound       nwoundus       nwoundte    propextent  \\\n",
       "count  165380.000000  116989.000000  112548.000000  64065.000000   \n",
       "mean        3.167668       0.038944       0.107163      3.295403   \n",
       "std        35.949392       3.057361       1.488881      0.486912   \n",
       "min         0.000000       0.000000       0.000000      1.000000   \n",
       "25%         0.000000       0.000000       0.000000      3.000000   \n",
       "50%         0.000000       0.000000       0.000000      3.000000   \n",
       "75%         2.000000       0.000000       0.000000      4.000000   \n",
       "max      8191.000000     751.000000     200.000000      4.000000   \n",
       "\n",
       "          propvalue     ransomamt    ransompaid  ransompaidus  \n",
       "count  1.037600e+04  1.099000e+03  4.510000e+02    528.000000  \n",
       "mean   7.849073e+05  3.897125e+06  1.232196e+06    255.634470  \n",
       "std    3.008737e+07  3.344492e+07  1.327112e+07   3006.294428  \n",
       "min    0.000000e+00  0.000000e+00  0.000000e+00      0.000000  \n",
       "25%    5.000000e+03  0.000000e+00  0.000000e+00      0.000000  \n",
       "50%    2.480000e+04  6.000000e+04  0.000000e+00      0.000000  \n",
       "75%    5.000000e+04  6.247582e+05  7.787500e+04      0.000000  \n",
       "max    2.700000e+09  1.000000e+09  2.750000e+08  48000.000000  "
      ]
     },
     "execution_count": 4,
     "metadata": {},
     "output_type": "execute_result"
    }
   ],
   "source": [
    "df.describe()"
   ]
  },
  {
   "cell_type": "markdown",
   "id": "toxic-metro",
   "metadata": {},
   "source": [
    "**Now lets take a quick look at all the missing collumns in our data set.**"
   ]
  },
  {
   "cell_type": "code",
   "execution_count": 5,
   "id": "atmospheric-stupid",
   "metadata": {},
   "outputs": [
    {
     "data": {
      "text/plain": [
       "id                         0\n",
       "year                       0\n",
       "month                      0\n",
       "day                        0\n",
       "country_txt                0\n",
       "region_txt                 0\n",
       "provstate                421\n",
       "city                     434\n",
       "latitude                4556\n",
       "longitude               4557\n",
       "specificity                6\n",
       "summary                66129\n",
       "crit                       0\n",
       "multiple                   0\n",
       "success                    0\n",
       "suicide                    0\n",
       "attacktype_txt             0\n",
       "targtype1_txt              0\n",
       "corp1                  42550\n",
       "target                   636\n",
       "natlty1_txt             1559\n",
       "gname                      0\n",
       "motive                131130\n",
       "guncertain                 0\n",
       "individual                 0\n",
       "nperps                153335\n",
       "weaptype1_txt              0\n",
       "weapsubtype1           20768\n",
       "weapsubtype1_txt       20768\n",
       "weapdetail             67670\n",
       "nkill                  10313\n",
       "nkillus                64446\n",
       "nkillter               66958\n",
       "nwound                 16311\n",
       "nwoundus               64702\n",
       "nwoundte               69143\n",
       "property                   0\n",
       "propextent            117626\n",
       "propextent_txt        117626\n",
       "propvalue             171315\n",
       "ishostkid                  0\n",
       "ransom                     0\n",
       "ransomamt             180592\n",
       "ransomamtus           181128\n",
       "ransompaid            181240\n",
       "ransompaidus          181163\n",
       "ransomnote            181177\n",
       "hostkidoutcome        170700\n",
       "hostkidoutcome_txt    170700\n",
       "nreleased             171291\n",
       "dbsource                   0\n",
       "dtype: int64"
      ]
     },
     "execution_count": 5,
     "metadata": {},
     "output_type": "execute_result"
    }
   ],
   "source": [
    "df.isnull().sum()"
   ]
  },
  {
   "cell_type": "markdown",
   "id": "activated-tracy",
   "metadata": {},
   "source": [
    "**Lastly lets us generate a pandas profileing report.**"
   ]
  },
  {
   "cell_type": "code",
   "execution_count": 4,
   "id": "south-donor",
   "metadata": {},
   "outputs": [
    {
     "data": {
      "application/vnd.jupyter.widget-view+json": {
       "model_id": "63f08729fee04a2b8700df9479c61e2c",
       "version_major": 2,
       "version_minor": 0
      },
      "text/plain": [
       "Summarize dataset:   0%|          | 0/59 [00:00<?, ?it/s]"
      ]
     },
     "metadata": {},
     "output_type": "display_data"
    },
    {
     "data": {
      "application/vnd.jupyter.widget-view+json": {
       "model_id": "641ec3fbe31d424f98c0999be3bef901",
       "version_major": 2,
       "version_minor": 0
      },
      "text/plain": [
       "Generate report structure:   0%|          | 0/1 [00:00<?, ?it/s]"
      ]
     },
     "metadata": {},
     "output_type": "display_data"
    },
    {
     "data": {
      "application/vnd.jupyter.widget-view+json": {
       "model_id": "b96d8bc331c641749a30f783ae66e17c",
       "version_major": 2,
       "version_minor": 0
      },
      "text/plain": [
       "Render HTML:   0%|          | 0/1 [00:00<?, ?it/s]"
      ]
     },
     "metadata": {},
     "output_type": "display_data"
    },
    {
     "data": {
      "application/vnd.jupyter.widget-view+json": {
       "model_id": "e157e0a3673a45d494f96fd544ebd9db",
       "version_major": 2,
       "version_minor": 0
      },
      "text/plain": [
       "Export report to file:   0%|          | 0/1 [00:00<?, ?it/s]"
      ]
     },
     "metadata": {},
     "output_type": "display_data"
    }
   ],
   "source": [
    "prof = ProfileReport(df, minimal=True)\n",
    "prof.to_file(output_file='profileReport.html')"
   ]
  },
  {
   "cell_type": "markdown",
   "id": "signed-shelf",
   "metadata": {},
   "source": [
    "## Part(2): Some Visulisations"
   ]
  },
  {
   "cell_type": "markdown",
   "id": "indirect-lexington",
   "metadata": {},
   "source": [
    "**The first think we must do is get a visual of the number of terrorist attack over the years and country, like so.**"
   ]
  },
  {
   "cell_type": "code",
   "execution_count": 93,
   "id": "engaged-equation",
   "metadata": {},
   "outputs": [
    {
     "data": {
      "application/vnd.plotly.v1+json": {
       "config": {
        "plotlyServerURL": "https://plot.ly"
       },
       "data": [
        {
         "coloraxis": "coloraxis",
         "geo": "geo",
         "hoverlabel": {
          "namelength": 0
         },
         "hovertemplate": "0=%{location}<br>1=%{z}",
         "locationmode": "country names",
         "locations": [
          "Portugal",
          "Colombia",
          "Austria",
          "Sudan",
          "Macau",
          "Cambodia",
          "Slovak Republic",
          "Wallis and Futuna",
          "Iraq",
          "Lesotho",
          "Hong Kong",
          "Mauritania",
          "French Guiana",
          "Grenada",
          "Falkland Islands",
          "France",
          "Lebanon",
          "Madagascar",
          "Thailand",
          "Guinea-Bissau",
          "Fiji",
          "Sri Lanka",
          "Solomon Islands",
          "Bahamas",
          "Tunisia",
          "Canada",
          "Serbia",
          "Argentina",
          "Taiwan",
          "Nicaragua",
          "Guadeloupe",
          "Mozambique",
          "Comoros",
          "Vanuatu",
          "Djibouti",
          "Peru",
          "East Timor",
          "South Yemen",
          "North Korea",
          "Hungary",
          "Kyrgyzstan",
          "South Africa",
          "Ivory Coast",
          "Malta",
          "Turkey",
          "Czech Republic",
          "Saudi Arabia",
          "Luxembourg",
          "Chad",
          "Liberia",
          "Eritrea",
          "Gabon",
          "New Caledonia",
          "Mauritius",
          "United States",
          "Guatemala",
          "Romania",
          "United Arab Emirates",
          "Malaysia",
          "Ghana",
          "Brazil",
          "Costa Rica",
          "Rwanda",
          "Cyprus",
          "Qatar",
          "South Vietnam",
          "Senegal",
          "Mali",
          "Bosnia-Herzegovina",
          "Western Sahara",
          "Andorra",
          "Denmark",
          "West Bank and Gaza Strip",
          "Tanzania",
          "Belgium",
          "Moldova",
          "Myanmar",
          "Bulgaria",
          "Germany",
          "Martinique",
          "Philippines",
          "Maldives",
          "Laos",
          "Zambia",
          "Egypt",
          "Suriname",
          "Tajikistan",
          "Democratic Republic of the Congo",
          "Dominican Republic",
          "West Germany (FRG)",
          "Kuwait",
          "Japan",
          "Uganda",
          "Vietnam",
          "Ireland",
          "Iceland",
          "Belarus",
          "Australia",
          "People's Republic of the Congo",
          "China",
          "Switzerland",
          "Republic of the Congo",
          "Sweden",
          "Kenya",
          "Swaziland",
          "Sierra Leone",
          "Ukraine",
          "Yemen",
          "Botswana",
          "East Germany (GDR)",
          "Brunei",
          "Burkina Faso",
          "Malawi",
          "Bolivia",
          "Dominica",
          "Israel",
          "Angola",
          "Somalia",
          "South Korea",
          "Zimbabwe",
          "Niger",
          "Belize",
          "India",
          "Cuba",
          "Singapore",
          "Panama",
          "Benin",
          "Haiti",
          "Ecuador",
          "Bahrain",
          "Seychelles",
          "Uzbekistan",
          "United Kingdom",
          "Greece",
          "Rhodesia",
          "Equatorial Guinea",
          "Guyana",
          "Gambia",
          "Kazakhstan",
          "French Polynesia",
          "Armenia",
          "Cameroon",
          "Netherlands",
          "Togo",
          "Albania",
          "Azerbaijan",
          "Montenegro",
          "Mexico",
          "Honduras",
          "Finland",
          "Venezuela",
          "Chile",
          "Norway",
          "International",
          "Spain",
          "Jamaica",
          "Zaire",
          "South Sudan",
          "Macedonia",
          "Russia",
          "Yugoslavia",
          "Paraguay",
          "New Zealand",
          "Trinidad and Tobago",
          "Lithuania",
          "Bangladesh",
          "El Salvador",
          "Morocco",
          "Czechoslovakia",
          "Afghanistan",
          "Guinea",
          "Algeria",
          "Bhutan",
          "Ethiopia",
          "Burundi",
          "Nigeria",
          "North Yemen",
          "Jordan",
          "St. Lucia",
          "Iran",
          "Nepal",
          "Estonia",
          "Italy",
          "Antigua and Barbuda",
          "Slovenia",
          "Vatican City",
          "Libya",
          "Poland",
          "Latvia",
          "Indonesia",
          "Central African Republic",
          "New Hebrides",
          "Georgia",
          "Namibia",
          "Papua New Guinea",
          "Uruguay",
          "Serbia-Montenegro",
          "Kosovo",
          "Barbados",
          "Pakistan",
          "Croatia",
          "Syria",
          "Turkmenistan",
          "St. Kitts and Nevis"
         ],
         "name": "",
         "type": "choropleth",
         "z": [
          32,
          14698,
          30,
          3883,
          1,
          543,
          7,
          0,
          78589,
          46,
          4,
          43,
          1,
          9,
          0,
          534,
          4061,
          31,
          2742,
          17,
          8,
          15530,
          4,
          1,
          351,
          365,
          3,
          490,
          60,
          10598,
          8,
          2711,
          1,
          0,
          274,
          12771,
          9,
          0,
          3,
          6,
          10,
          2674,
          268,
          5,
          6888,
          6,
          672,
          0,
          1119,
          177,
          46,
          6,
          35,
          0,
          3771,
          5167,
          4,
          123,
          152,
          19,
          203,
          17,
          3236,
          45,
          7,
          81,
          325,
          1432,
          79,
          1,
          0,
          5,
          1500,
          73,
          79,
          13,
          1280,
          28,
          84,
          0,
          9559,
          20,
          27,
          70,
          3869,
          29,
          307,
          4069,
          34,
          97,
          63,
          66,
          3065,
          1,
          117,
          0,
          14,
          23,
          15,
          1008,
          74,
          182,
          22,
          1948,
          6,
          840,
          2261,
          8776,
          11,
          2,
          0,
          134,
          33,
          42,
          3,
          1703,
          3043,
          10273,
          10,
          154,
          1474,
          3,
          19341,
          8,
          5,
          38,
          0,
          336,
          54,
          44,
          0,
          68,
          3410,
          325,
          217,
          2,
          41,
          13,
          39,
          0,
          37,
          2347,
          37,
          76,
          42,
          258,
          1,
          780,
          307,
          11,
          227,
          228,
          79,
          1,
          1288,
          42,
          324,
          2634,
          49,
          4308,
          119,
          59,
          1,
          6,
          1,
          1244,
          12053,
          292,
          27,
          39384,
          213,
          11066,
          9,
          1765,
          4205,
          22682,
          3,
          133,
          2,
          1673,
          1969,
          3,
          420,
          0,
          1,
          0,
          2598,
          9,
          2,
          1238,
          1990,
          0,
          278,
          220,
          79,
          6,
          3,
          83,
          76,
          23822,
          248,
          15229,
          3,
          0
         ]
        }
       ],
       "layout": {
        "coloraxis": {
         "colorbar": {
          "title": {
           "text": "1"
          }
         },
         "colorscale": [
          [
           0,
           "rgb(0,0,0)"
          ],
          [
           0.3333333333333333,
           "rgb(230,0,0)"
          ],
          [
           0.6666666666666666,
           "rgb(255,210,0)"
          ],
          [
           1,
           "rgb(255,255,255)"
          ]
         ]
        },
        "geo": {
         "center": {},
         "domain": {
          "x": [
           0,
           1
          ],
          "y": [
           0,
           1
          ]
         }
        },
        "legend": {
         "tracegroupgap": 0
        },
        "template": {
         "data": {
          "bar": [
           {
            "error_x": {
             "color": "#2a3f5f"
            },
            "error_y": {
             "color": "#2a3f5f"
            },
            "marker": {
             "line": {
              "color": "#E5ECF6",
              "width": 0.5
             }
            },
            "type": "bar"
           }
          ],
          "barpolar": [
           {
            "marker": {
             "line": {
              "color": "#E5ECF6",
              "width": 0.5
             }
            },
            "type": "barpolar"
           }
          ],
          "carpet": [
           {
            "aaxis": {
             "endlinecolor": "#2a3f5f",
             "gridcolor": "white",
             "linecolor": "white",
             "minorgridcolor": "white",
             "startlinecolor": "#2a3f5f"
            },
            "baxis": {
             "endlinecolor": "#2a3f5f",
             "gridcolor": "white",
             "linecolor": "white",
             "minorgridcolor": "white",
             "startlinecolor": "#2a3f5f"
            },
            "type": "carpet"
           }
          ],
          "choropleth": [
           {
            "colorbar": {
             "outlinewidth": 0,
             "ticks": ""
            },
            "type": "choropleth"
           }
          ],
          "contour": [
           {
            "colorbar": {
             "outlinewidth": 0,
             "ticks": ""
            },
            "colorscale": [
             [
              0,
              "#0d0887"
             ],
             [
              0.1111111111111111,
              "#46039f"
             ],
             [
              0.2222222222222222,
              "#7201a8"
             ],
             [
              0.3333333333333333,
              "#9c179e"
             ],
             [
              0.4444444444444444,
              "#bd3786"
             ],
             [
              0.5555555555555556,
              "#d8576b"
             ],
             [
              0.6666666666666666,
              "#ed7953"
             ],
             [
              0.7777777777777778,
              "#fb9f3a"
             ],
             [
              0.8888888888888888,
              "#fdca26"
             ],
             [
              1,
              "#f0f921"
             ]
            ],
            "type": "contour"
           }
          ],
          "contourcarpet": [
           {
            "colorbar": {
             "outlinewidth": 0,
             "ticks": ""
            },
            "type": "contourcarpet"
           }
          ],
          "heatmap": [
           {
            "colorbar": {
             "outlinewidth": 0,
             "ticks": ""
            },
            "colorscale": [
             [
              0,
              "#0d0887"
             ],
             [
              0.1111111111111111,
              "#46039f"
             ],
             [
              0.2222222222222222,
              "#7201a8"
             ],
             [
              0.3333333333333333,
              "#9c179e"
             ],
             [
              0.4444444444444444,
              "#bd3786"
             ],
             [
              0.5555555555555556,
              "#d8576b"
             ],
             [
              0.6666666666666666,
              "#ed7953"
             ],
             [
              0.7777777777777778,
              "#fb9f3a"
             ],
             [
              0.8888888888888888,
              "#fdca26"
             ],
             [
              1,
              "#f0f921"
             ]
            ],
            "type": "heatmap"
           }
          ],
          "heatmapgl": [
           {
            "colorbar": {
             "outlinewidth": 0,
             "ticks": ""
            },
            "colorscale": [
             [
              0,
              "#0d0887"
             ],
             [
              0.1111111111111111,
              "#46039f"
             ],
             [
              0.2222222222222222,
              "#7201a8"
             ],
             [
              0.3333333333333333,
              "#9c179e"
             ],
             [
              0.4444444444444444,
              "#bd3786"
             ],
             [
              0.5555555555555556,
              "#d8576b"
             ],
             [
              0.6666666666666666,
              "#ed7953"
             ],
             [
              0.7777777777777778,
              "#fb9f3a"
             ],
             [
              0.8888888888888888,
              "#fdca26"
             ],
             [
              1,
              "#f0f921"
             ]
            ],
            "type": "heatmapgl"
           }
          ],
          "histogram": [
           {
            "marker": {
             "colorbar": {
              "outlinewidth": 0,
              "ticks": ""
             }
            },
            "type": "histogram"
           }
          ],
          "histogram2d": [
           {
            "colorbar": {
             "outlinewidth": 0,
             "ticks": ""
            },
            "colorscale": [
             [
              0,
              "#0d0887"
             ],
             [
              0.1111111111111111,
              "#46039f"
             ],
             [
              0.2222222222222222,
              "#7201a8"
             ],
             [
              0.3333333333333333,
              "#9c179e"
             ],
             [
              0.4444444444444444,
              "#bd3786"
             ],
             [
              0.5555555555555556,
              "#d8576b"
             ],
             [
              0.6666666666666666,
              "#ed7953"
             ],
             [
              0.7777777777777778,
              "#fb9f3a"
             ],
             [
              0.8888888888888888,
              "#fdca26"
             ],
             [
              1,
              "#f0f921"
             ]
            ],
            "type": "histogram2d"
           }
          ],
          "histogram2dcontour": [
           {
            "colorbar": {
             "outlinewidth": 0,
             "ticks": ""
            },
            "colorscale": [
             [
              0,
              "#0d0887"
             ],
             [
              0.1111111111111111,
              "#46039f"
             ],
             [
              0.2222222222222222,
              "#7201a8"
             ],
             [
              0.3333333333333333,
              "#9c179e"
             ],
             [
              0.4444444444444444,
              "#bd3786"
             ],
             [
              0.5555555555555556,
              "#d8576b"
             ],
             [
              0.6666666666666666,
              "#ed7953"
             ],
             [
              0.7777777777777778,
              "#fb9f3a"
             ],
             [
              0.8888888888888888,
              "#fdca26"
             ],
             [
              1,
              "#f0f921"
             ]
            ],
            "type": "histogram2dcontour"
           }
          ],
          "mesh3d": [
           {
            "colorbar": {
             "outlinewidth": 0,
             "ticks": ""
            },
            "type": "mesh3d"
           }
          ],
          "parcoords": [
           {
            "line": {
             "colorbar": {
              "outlinewidth": 0,
              "ticks": ""
             }
            },
            "type": "parcoords"
           }
          ],
          "pie": [
           {
            "automargin": true,
            "type": "pie"
           }
          ],
          "scatter": [
           {
            "marker": {
             "colorbar": {
              "outlinewidth": 0,
              "ticks": ""
             }
            },
            "type": "scatter"
           }
          ],
          "scatter3d": [
           {
            "line": {
             "colorbar": {
              "outlinewidth": 0,
              "ticks": ""
             }
            },
            "marker": {
             "colorbar": {
              "outlinewidth": 0,
              "ticks": ""
             }
            },
            "type": "scatter3d"
           }
          ],
          "scattercarpet": [
           {
            "marker": {
             "colorbar": {
              "outlinewidth": 0,
              "ticks": ""
             }
            },
            "type": "scattercarpet"
           }
          ],
          "scattergeo": [
           {
            "marker": {
             "colorbar": {
              "outlinewidth": 0,
              "ticks": ""
             }
            },
            "type": "scattergeo"
           }
          ],
          "scattergl": [
           {
            "marker": {
             "colorbar": {
              "outlinewidth": 0,
              "ticks": ""
             }
            },
            "type": "scattergl"
           }
          ],
          "scattermapbox": [
           {
            "marker": {
             "colorbar": {
              "outlinewidth": 0,
              "ticks": ""
             }
            },
            "type": "scattermapbox"
           }
          ],
          "scatterpolar": [
           {
            "marker": {
             "colorbar": {
              "outlinewidth": 0,
              "ticks": ""
             }
            },
            "type": "scatterpolar"
           }
          ],
          "scatterpolargl": [
           {
            "marker": {
             "colorbar": {
              "outlinewidth": 0,
              "ticks": ""
             }
            },
            "type": "scatterpolargl"
           }
          ],
          "scatterternary": [
           {
            "marker": {
             "colorbar": {
              "outlinewidth": 0,
              "ticks": ""
             }
            },
            "type": "scatterternary"
           }
          ],
          "surface": [
           {
            "colorbar": {
             "outlinewidth": 0,
             "ticks": ""
            },
            "colorscale": [
             [
              0,
              "#0d0887"
             ],
             [
              0.1111111111111111,
              "#46039f"
             ],
             [
              0.2222222222222222,
              "#7201a8"
             ],
             [
              0.3333333333333333,
              "#9c179e"
             ],
             [
              0.4444444444444444,
              "#bd3786"
             ],
             [
              0.5555555555555556,
              "#d8576b"
             ],
             [
              0.6666666666666666,
              "#ed7953"
             ],
             [
              0.7777777777777778,
              "#fb9f3a"
             ],
             [
              0.8888888888888888,
              "#fdca26"
             ],
             [
              1,
              "#f0f921"
             ]
            ],
            "type": "surface"
           }
          ],
          "table": [
           {
            "cells": {
             "fill": {
              "color": "#EBF0F8"
             },
             "line": {
              "color": "white"
             }
            },
            "header": {
             "fill": {
              "color": "#C8D4E3"
             },
             "line": {
              "color": "white"
             }
            },
            "type": "table"
           }
          ]
         },
         "layout": {
          "annotationdefaults": {
           "arrowcolor": "#2a3f5f",
           "arrowhead": 0,
           "arrowwidth": 1
          },
          "coloraxis": {
           "colorbar": {
            "outlinewidth": 0,
            "ticks": ""
           }
          },
          "colorscale": {
           "diverging": [
            [
             0,
             "#8e0152"
            ],
            [
             0.1,
             "#c51b7d"
            ],
            [
             0.2,
             "#de77ae"
            ],
            [
             0.3,
             "#f1b6da"
            ],
            [
             0.4,
             "#fde0ef"
            ],
            [
             0.5,
             "#f7f7f7"
            ],
            [
             0.6,
             "#e6f5d0"
            ],
            [
             0.7,
             "#b8e186"
            ],
            [
             0.8,
             "#7fbc41"
            ],
            [
             0.9,
             "#4d9221"
            ],
            [
             1,
             "#276419"
            ]
           ],
           "sequential": [
            [
             0,
             "#0d0887"
            ],
            [
             0.1111111111111111,
             "#46039f"
            ],
            [
             0.2222222222222222,
             "#7201a8"
            ],
            [
             0.3333333333333333,
             "#9c179e"
            ],
            [
             0.4444444444444444,
             "#bd3786"
            ],
            [
             0.5555555555555556,
             "#d8576b"
            ],
            [
             0.6666666666666666,
             "#ed7953"
            ],
            [
             0.7777777777777778,
             "#fb9f3a"
            ],
            [
             0.8888888888888888,
             "#fdca26"
            ],
            [
             1,
             "#f0f921"
            ]
           ],
           "sequentialminus": [
            [
             0,
             "#0d0887"
            ],
            [
             0.1111111111111111,
             "#46039f"
            ],
            [
             0.2222222222222222,
             "#7201a8"
            ],
            [
             0.3333333333333333,
             "#9c179e"
            ],
            [
             0.4444444444444444,
             "#bd3786"
            ],
            [
             0.5555555555555556,
             "#d8576b"
            ],
            [
             0.6666666666666666,
             "#ed7953"
            ],
            [
             0.7777777777777778,
             "#fb9f3a"
            ],
            [
             0.8888888888888888,
             "#fdca26"
            ],
            [
             1,
             "#f0f921"
            ]
           ]
          },
          "colorway": [
           "#636efa",
           "#EF553B",
           "#00cc96",
           "#ab63fa",
           "#FFA15A",
           "#19d3f3",
           "#FF6692",
           "#B6E880",
           "#FF97FF",
           "#FECB52"
          ],
          "font": {
           "color": "#2a3f5f"
          },
          "geo": {
           "bgcolor": "white",
           "lakecolor": "white",
           "landcolor": "#E5ECF6",
           "showlakes": true,
           "showland": true,
           "subunitcolor": "white"
          },
          "hoverlabel": {
           "align": "left"
          },
          "hovermode": "closest",
          "mapbox": {
           "style": "light"
          },
          "paper_bgcolor": "white",
          "plot_bgcolor": "#E5ECF6",
          "polar": {
           "angularaxis": {
            "gridcolor": "white",
            "linecolor": "white",
            "ticks": ""
           },
           "bgcolor": "#E5ECF6",
           "radialaxis": {
            "gridcolor": "white",
            "linecolor": "white",
            "ticks": ""
           }
          },
          "scene": {
           "xaxis": {
            "backgroundcolor": "#E5ECF6",
            "gridcolor": "white",
            "gridwidth": 2,
            "linecolor": "white",
            "showbackground": true,
            "ticks": "",
            "zerolinecolor": "white"
           },
           "yaxis": {
            "backgroundcolor": "#E5ECF6",
            "gridcolor": "white",
            "gridwidth": 2,
            "linecolor": "white",
            "showbackground": true,
            "ticks": "",
            "zerolinecolor": "white"
           },
           "zaxis": {
            "backgroundcolor": "#E5ECF6",
            "gridcolor": "white",
            "gridwidth": 2,
            "linecolor": "white",
            "showbackground": true,
            "ticks": "",
            "zerolinecolor": "white"
           }
          },
          "shapedefaults": {
           "line": {
            "color": "#2a3f5f"
           }
          },
          "ternary": {
           "aaxis": {
            "gridcolor": "white",
            "linecolor": "white",
            "ticks": ""
           },
           "baxis": {
            "gridcolor": "white",
            "linecolor": "white",
            "ticks": ""
           },
           "bgcolor": "#E5ECF6",
           "caxis": {
            "gridcolor": "white",
            "linecolor": "white",
            "ticks": ""
           }
          },
          "title": {
           "x": 0.05
          },
          "xaxis": {
           "automargin": true,
           "gridcolor": "white",
           "linecolor": "white",
           "ticks": "",
           "title": {
            "standoff": 15
           },
           "zerolinecolor": "white",
           "zerolinewidth": 2
          },
          "yaxis": {
           "automargin": true,
           "gridcolor": "white",
           "linecolor": "white",
           "ticks": "",
           "title": {
            "standoff": 15
           },
           "zerolinecolor": "white",
           "zerolinewidth": 2
          }
         }
        },
        "title": {
         "text": "Fatalities By Terrorism"
        }
       }
      },
      "text/html": [
       "<div>\n",
       "        \n",
       "        \n",
       "            <div id=\"6ecd450a-9143-4ce3-879d-50e8c8e951ac\" class=\"plotly-graph-div\" style=\"height:525px; width:100%;\"></div>\n",
       "            <script type=\"text/javascript\">\n",
       "                require([\"plotly\"], function(Plotly) {\n",
       "                    window.PLOTLYENV=window.PLOTLYENV || {};\n",
       "                    \n",
       "                if (document.getElementById(\"6ecd450a-9143-4ce3-879d-50e8c8e951ac\")) {\n",
       "                    Plotly.newPlot(\n",
       "                        '6ecd450a-9143-4ce3-879d-50e8c8e951ac',\n",
       "                        [{\"coloraxis\": \"coloraxis\", \"geo\": \"geo\", \"hoverlabel\": {\"namelength\": 0}, \"hovertemplate\": \"0=%{location}<br>1=%{z}\", \"locationmode\": \"country names\", \"locations\": [\"Portugal\", \"Colombia\", \"Austria\", \"Sudan\", \"Macau\", \"Cambodia\", \"Slovak Republic\", \"Wallis and Futuna\", \"Iraq\", \"Lesotho\", \"Hong Kong\", \"Mauritania\", \"French Guiana\", \"Grenada\", \"Falkland Islands\", \"France\", \"Lebanon\", \"Madagascar\", \"Thailand\", \"Guinea-Bissau\", \"Fiji\", \"Sri Lanka\", \"Solomon Islands\", \"Bahamas\", \"Tunisia\", \"Canada\", \"Serbia\", \"Argentina\", \"Taiwan\", \"Nicaragua\", \"Guadeloupe\", \"Mozambique\", \"Comoros\", \"Vanuatu\", \"Djibouti\", \"Peru\", \"East Timor\", \"South Yemen\", \"North Korea\", \"Hungary\", \"Kyrgyzstan\", \"South Africa\", \"Ivory Coast\", \"Malta\", \"Turkey\", \"Czech Republic\", \"Saudi Arabia\", \"Luxembourg\", \"Chad\", \"Liberia\", \"Eritrea\", \"Gabon\", \"New Caledonia\", \"Mauritius\", \"United States\", \"Guatemala\", \"Romania\", \"United Arab Emirates\", \"Malaysia\", \"Ghana\", \"Brazil\", \"Costa Rica\", \"Rwanda\", \"Cyprus\", \"Qatar\", \"South Vietnam\", \"Senegal\", \"Mali\", \"Bosnia-Herzegovina\", \"Western Sahara\", \"Andorra\", \"Denmark\", \"West Bank and Gaza Strip\", \"Tanzania\", \"Belgium\", \"Moldova\", \"Myanmar\", \"Bulgaria\", \"Germany\", \"Martinique\", \"Philippines\", \"Maldives\", \"Laos\", \"Zambia\", \"Egypt\", \"Suriname\", \"Tajikistan\", \"Democratic Republic of the Congo\", \"Dominican Republic\", \"West Germany (FRG)\", \"Kuwait\", \"Japan\", \"Uganda\", \"Vietnam\", \"Ireland\", \"Iceland\", \"Belarus\", \"Australia\", \"People's Republic of the Congo\", \"China\", \"Switzerland\", \"Republic of the Congo\", \"Sweden\", \"Kenya\", \"Swaziland\", \"Sierra Leone\", \"Ukraine\", \"Yemen\", \"Botswana\", \"East Germany (GDR)\", \"Brunei\", \"Burkina Faso\", \"Malawi\", \"Bolivia\", \"Dominica\", \"Israel\", \"Angola\", \"Somalia\", \"South Korea\", \"Zimbabwe\", \"Niger\", \"Belize\", \"India\", \"Cuba\", \"Singapore\", \"Panama\", \"Benin\", \"Haiti\", \"Ecuador\", \"Bahrain\", \"Seychelles\", \"Uzbekistan\", \"United Kingdom\", \"Greece\", \"Rhodesia\", \"Equatorial Guinea\", \"Guyana\", \"Gambia\", \"Kazakhstan\", \"French Polynesia\", \"Armenia\", \"Cameroon\", \"Netherlands\", \"Togo\", \"Albania\", \"Azerbaijan\", \"Montenegro\", \"Mexico\", \"Honduras\", \"Finland\", \"Venezuela\", \"Chile\", \"Norway\", \"International\", \"Spain\", \"Jamaica\", \"Zaire\", \"South Sudan\", \"Macedonia\", \"Russia\", \"Yugoslavia\", \"Paraguay\", \"New Zealand\", \"Trinidad and Tobago\", \"Lithuania\", \"Bangladesh\", \"El Salvador\", \"Morocco\", \"Czechoslovakia\", \"Afghanistan\", \"Guinea\", \"Algeria\", \"Bhutan\", \"Ethiopia\", \"Burundi\", \"Nigeria\", \"North Yemen\", \"Jordan\", \"St. Lucia\", \"Iran\", \"Nepal\", \"Estonia\", \"Italy\", \"Antigua and Barbuda\", \"Slovenia\", \"Vatican City\", \"Libya\", \"Poland\", \"Latvia\", \"Indonesia\", \"Central African Republic\", \"New Hebrides\", \"Georgia\", \"Namibia\", \"Papua New Guinea\", \"Uruguay\", \"Serbia-Montenegro\", \"Kosovo\", \"Barbados\", \"Pakistan\", \"Croatia\", \"Syria\", \"Turkmenistan\", \"St. Kitts and Nevis\"], \"name\": \"\", \"type\": \"choropleth\", \"z\": [32.0, 14698.0, 30.0, 3883.0, 1.0, 543.0, 7.0, 0.0, 78589.0, 46.0, 4.0, 43.0, 1.0, 9.0, 0.0, 534.0, 4061.0, 31.0, 2742.0, 17.0, 8.0, 15530.0, 4.0, 1.0, 351.0, 365.0, 3.0, 490.0, 60.0, 10598.0, 8.0, 2711.0, 1.0, 0.0, 274.0, 12771.0, 9.0, 0.0, 3.0, 6.0, 10.0, 2674.0, 268.0, 5.0, 6888.0, 6.0, 672.0, 0.0, 1119.0, 177.0, 46.0, 6.0, 35.0, 0.0, 3771.0, 5167.0, 4.0, 123.0, 152.0, 19.0, 203.0, 17.0, 3236.0, 45.0, 7.0, 81.0, 325.0, 1432.0, 79.0, 1.0, 0.0, 5.0, 1500.0, 73.0, 79.0, 13.0, 1280.0, 28.0, 84.0, 0.0, 9559.0, 20.0, 27.0, 70.0, 3869.0, 29.0, 307.0, 4069.0, 34.0, 97.0, 63.0, 66.0, 3065.0, 1.0, 117.0, 0.0, 14.0, 23.0, 15.0, 1008.0, 74.0, 182.0, 22.0, 1948.0, 6.0, 840.0, 2261.0, 8776.0, 11.0, 2.0, 0.0, 134.0, 33.0, 42.0, 3.0, 1703.0, 3043.0, 10273.0, 10.0, 154.0, 1474.0, 3.0, 19341.0, 8.0, 5.0, 38.0, 0.0, 336.0, 54.0, 44.0, 0.0, 68.0, 3410.0, 325.0, 217.0, 2.0, 41.0, 13.0, 39.0, 0.0, 37.0, 2347.0, 37.0, 76.0, 42.0, 258.0, 1.0, 780.0, 307.0, 11.0, 227.0, 228.0, 79.0, 1.0, 1288.0, 42.0, 324.0, 2634.0, 49.0, 4308.0, 119.0, 59.0, 1.0, 6.0, 1.0, 1244.0, 12053.0, 292.0, 27.0, 39384.0, 213.0, 11066.0, 9.0, 1765.0, 4205.0, 22682.0, 3.0, 133.0, 2.0, 1673.0, 1969.0, 3.0, 420.0, 0.0, 1.0, 0.0, 2598.0, 9.0, 2.0, 1238.0, 1990.0, 0.0, 278.0, 220.0, 79.0, 6.0, 3.0, 83.0, 76.0, 23822.0, 248.0, 15229.0, 3.0, 0.0]}],\n",
       "                        {\"coloraxis\": {\"colorbar\": {\"title\": {\"text\": \"1\"}}, \"colorscale\": [[0.0, \"rgb(0,0,0)\"], [0.3333333333333333, \"rgb(230,0,0)\"], [0.6666666666666666, \"rgb(255,210,0)\"], [1.0, \"rgb(255,255,255)\"]]}, \"geo\": {\"center\": {}, \"domain\": {\"x\": [0.0, 1.0], \"y\": [0.0, 1.0]}}, \"legend\": {\"tracegroupgap\": 0}, \"template\": {\"data\": {\"bar\": [{\"error_x\": {\"color\": \"#2a3f5f\"}, \"error_y\": {\"color\": \"#2a3f5f\"}, \"marker\": {\"line\": {\"color\": \"#E5ECF6\", \"width\": 0.5}}, \"type\": \"bar\"}], \"barpolar\": [{\"marker\": {\"line\": {\"color\": \"#E5ECF6\", \"width\": 0.5}}, \"type\": \"barpolar\"}], \"carpet\": [{\"aaxis\": {\"endlinecolor\": \"#2a3f5f\", \"gridcolor\": \"white\", \"linecolor\": \"white\", \"minorgridcolor\": \"white\", \"startlinecolor\": \"#2a3f5f\"}, \"baxis\": {\"endlinecolor\": \"#2a3f5f\", \"gridcolor\": \"white\", \"linecolor\": \"white\", \"minorgridcolor\": \"white\", \"startlinecolor\": \"#2a3f5f\"}, \"type\": \"carpet\"}], \"choropleth\": [{\"colorbar\": {\"outlinewidth\": 0, \"ticks\": \"\"}, \"type\": \"choropleth\"}], \"contour\": [{\"colorbar\": {\"outlinewidth\": 0, \"ticks\": \"\"}, \"colorscale\": [[0.0, \"#0d0887\"], [0.1111111111111111, \"#46039f\"], [0.2222222222222222, \"#7201a8\"], [0.3333333333333333, \"#9c179e\"], [0.4444444444444444, \"#bd3786\"], [0.5555555555555556, \"#d8576b\"], [0.6666666666666666, \"#ed7953\"], [0.7777777777777778, \"#fb9f3a\"], [0.8888888888888888, \"#fdca26\"], [1.0, \"#f0f921\"]], \"type\": \"contour\"}], \"contourcarpet\": [{\"colorbar\": {\"outlinewidth\": 0, \"ticks\": \"\"}, \"type\": \"contourcarpet\"}], \"heatmap\": [{\"colorbar\": {\"outlinewidth\": 0, \"ticks\": \"\"}, \"colorscale\": [[0.0, \"#0d0887\"], [0.1111111111111111, \"#46039f\"], [0.2222222222222222, \"#7201a8\"], [0.3333333333333333, \"#9c179e\"], [0.4444444444444444, \"#bd3786\"], [0.5555555555555556, \"#d8576b\"], [0.6666666666666666, \"#ed7953\"], [0.7777777777777778, \"#fb9f3a\"], [0.8888888888888888, \"#fdca26\"], [1.0, \"#f0f921\"]], \"type\": \"heatmap\"}], \"heatmapgl\": [{\"colorbar\": {\"outlinewidth\": 0, \"ticks\": \"\"}, \"colorscale\": [[0.0, \"#0d0887\"], [0.1111111111111111, \"#46039f\"], [0.2222222222222222, \"#7201a8\"], [0.3333333333333333, \"#9c179e\"], [0.4444444444444444, \"#bd3786\"], [0.5555555555555556, \"#d8576b\"], [0.6666666666666666, \"#ed7953\"], [0.7777777777777778, \"#fb9f3a\"], [0.8888888888888888, \"#fdca26\"], [1.0, \"#f0f921\"]], \"type\": \"heatmapgl\"}], \"histogram\": [{\"marker\": {\"colorbar\": {\"outlinewidth\": 0, \"ticks\": \"\"}}, \"type\": \"histogram\"}], \"histogram2d\": [{\"colorbar\": {\"outlinewidth\": 0, \"ticks\": \"\"}, \"colorscale\": [[0.0, \"#0d0887\"], [0.1111111111111111, \"#46039f\"], [0.2222222222222222, \"#7201a8\"], [0.3333333333333333, \"#9c179e\"], [0.4444444444444444, \"#bd3786\"], [0.5555555555555556, \"#d8576b\"], [0.6666666666666666, \"#ed7953\"], [0.7777777777777778, \"#fb9f3a\"], [0.8888888888888888, \"#fdca26\"], [1.0, \"#f0f921\"]], \"type\": \"histogram2d\"}], \"histogram2dcontour\": [{\"colorbar\": {\"outlinewidth\": 0, \"ticks\": \"\"}, \"colorscale\": [[0.0, \"#0d0887\"], [0.1111111111111111, \"#46039f\"], [0.2222222222222222, \"#7201a8\"], [0.3333333333333333, \"#9c179e\"], [0.4444444444444444, \"#bd3786\"], [0.5555555555555556, \"#d8576b\"], [0.6666666666666666, \"#ed7953\"], [0.7777777777777778, \"#fb9f3a\"], [0.8888888888888888, \"#fdca26\"], [1.0, \"#f0f921\"]], \"type\": \"histogram2dcontour\"}], \"mesh3d\": [{\"colorbar\": {\"outlinewidth\": 0, \"ticks\": \"\"}, \"type\": \"mesh3d\"}], \"parcoords\": [{\"line\": {\"colorbar\": {\"outlinewidth\": 0, \"ticks\": \"\"}}, \"type\": \"parcoords\"}], \"pie\": [{\"automargin\": true, \"type\": \"pie\"}], \"scatter\": [{\"marker\": {\"colorbar\": {\"outlinewidth\": 0, \"ticks\": \"\"}}, \"type\": \"scatter\"}], \"scatter3d\": [{\"line\": {\"colorbar\": {\"outlinewidth\": 0, \"ticks\": \"\"}}, \"marker\": {\"colorbar\": {\"outlinewidth\": 0, \"ticks\": \"\"}}, \"type\": \"scatter3d\"}], \"scattercarpet\": [{\"marker\": {\"colorbar\": {\"outlinewidth\": 0, \"ticks\": \"\"}}, \"type\": \"scattercarpet\"}], \"scattergeo\": [{\"marker\": {\"colorbar\": {\"outlinewidth\": 0, \"ticks\": \"\"}}, \"type\": \"scattergeo\"}], \"scattergl\": [{\"marker\": {\"colorbar\": {\"outlinewidth\": 0, \"ticks\": \"\"}}, \"type\": \"scattergl\"}], \"scattermapbox\": [{\"marker\": {\"colorbar\": {\"outlinewidth\": 0, \"ticks\": \"\"}}, \"type\": \"scattermapbox\"}], \"scatterpolar\": [{\"marker\": {\"colorbar\": {\"outlinewidth\": 0, \"ticks\": \"\"}}, \"type\": \"scatterpolar\"}], \"scatterpolargl\": [{\"marker\": {\"colorbar\": {\"outlinewidth\": 0, \"ticks\": \"\"}}, \"type\": \"scatterpolargl\"}], \"scatterternary\": [{\"marker\": {\"colorbar\": {\"outlinewidth\": 0, \"ticks\": \"\"}}, \"type\": \"scatterternary\"}], \"surface\": [{\"colorbar\": {\"outlinewidth\": 0, \"ticks\": \"\"}, \"colorscale\": [[0.0, \"#0d0887\"], [0.1111111111111111, \"#46039f\"], [0.2222222222222222, \"#7201a8\"], [0.3333333333333333, \"#9c179e\"], [0.4444444444444444, \"#bd3786\"], [0.5555555555555556, \"#d8576b\"], [0.6666666666666666, \"#ed7953\"], [0.7777777777777778, \"#fb9f3a\"], [0.8888888888888888, \"#fdca26\"], [1.0, \"#f0f921\"]], \"type\": \"surface\"}], \"table\": [{\"cells\": {\"fill\": {\"color\": \"#EBF0F8\"}, \"line\": {\"color\": \"white\"}}, \"header\": {\"fill\": {\"color\": \"#C8D4E3\"}, \"line\": {\"color\": \"white\"}}, \"type\": \"table\"}]}, \"layout\": {\"annotationdefaults\": {\"arrowcolor\": \"#2a3f5f\", \"arrowhead\": 0, \"arrowwidth\": 1}, \"coloraxis\": {\"colorbar\": {\"outlinewidth\": 0, \"ticks\": \"\"}}, \"colorscale\": {\"diverging\": [[0, \"#8e0152\"], [0.1, \"#c51b7d\"], [0.2, \"#de77ae\"], [0.3, \"#f1b6da\"], [0.4, \"#fde0ef\"], [0.5, \"#f7f7f7\"], [0.6, \"#e6f5d0\"], [0.7, \"#b8e186\"], [0.8, \"#7fbc41\"], [0.9, \"#4d9221\"], [1, \"#276419\"]], \"sequential\": [[0.0, \"#0d0887\"], [0.1111111111111111, \"#46039f\"], [0.2222222222222222, \"#7201a8\"], [0.3333333333333333, \"#9c179e\"], [0.4444444444444444, \"#bd3786\"], [0.5555555555555556, \"#d8576b\"], [0.6666666666666666, \"#ed7953\"], [0.7777777777777778, \"#fb9f3a\"], [0.8888888888888888, \"#fdca26\"], [1.0, \"#f0f921\"]], \"sequentialminus\": [[0.0, \"#0d0887\"], [0.1111111111111111, \"#46039f\"], [0.2222222222222222, \"#7201a8\"], [0.3333333333333333, \"#9c179e\"], [0.4444444444444444, \"#bd3786\"], [0.5555555555555556, \"#d8576b\"], [0.6666666666666666, \"#ed7953\"], [0.7777777777777778, \"#fb9f3a\"], [0.8888888888888888, \"#fdca26\"], [1.0, \"#f0f921\"]]}, \"colorway\": [\"#636efa\", \"#EF553B\", \"#00cc96\", \"#ab63fa\", \"#FFA15A\", \"#19d3f3\", \"#FF6692\", \"#B6E880\", \"#FF97FF\", \"#FECB52\"], \"font\": {\"color\": \"#2a3f5f\"}, \"geo\": {\"bgcolor\": \"white\", \"lakecolor\": \"white\", \"landcolor\": \"#E5ECF6\", \"showlakes\": true, \"showland\": true, \"subunitcolor\": \"white\"}, \"hoverlabel\": {\"align\": \"left\"}, \"hovermode\": \"closest\", \"mapbox\": {\"style\": \"light\"}, \"paper_bgcolor\": \"white\", \"plot_bgcolor\": \"#E5ECF6\", \"polar\": {\"angularaxis\": {\"gridcolor\": \"white\", \"linecolor\": \"white\", \"ticks\": \"\"}, \"bgcolor\": \"#E5ECF6\", \"radialaxis\": {\"gridcolor\": \"white\", \"linecolor\": \"white\", \"ticks\": \"\"}}, \"scene\": {\"xaxis\": {\"backgroundcolor\": \"#E5ECF6\", \"gridcolor\": \"white\", \"gridwidth\": 2, \"linecolor\": \"white\", \"showbackground\": true, \"ticks\": \"\", \"zerolinecolor\": \"white\"}, \"yaxis\": {\"backgroundcolor\": \"#E5ECF6\", \"gridcolor\": \"white\", \"gridwidth\": 2, \"linecolor\": \"white\", \"showbackground\": true, \"ticks\": \"\", \"zerolinecolor\": \"white\"}, \"zaxis\": {\"backgroundcolor\": \"#E5ECF6\", \"gridcolor\": \"white\", \"gridwidth\": 2, \"linecolor\": \"white\", \"showbackground\": true, \"ticks\": \"\", \"zerolinecolor\": \"white\"}}, \"shapedefaults\": {\"line\": {\"color\": \"#2a3f5f\"}}, \"ternary\": {\"aaxis\": {\"gridcolor\": \"white\", \"linecolor\": \"white\", \"ticks\": \"\"}, \"baxis\": {\"gridcolor\": \"white\", \"linecolor\": \"white\", \"ticks\": \"\"}, \"bgcolor\": \"#E5ECF6\", \"caxis\": {\"gridcolor\": \"white\", \"linecolor\": \"white\", \"ticks\": \"\"}}, \"title\": {\"x\": 0.05}, \"xaxis\": {\"automargin\": true, \"gridcolor\": \"white\", \"linecolor\": \"white\", \"ticks\": \"\", \"title\": {\"standoff\": 15}, \"zerolinecolor\": \"white\", \"zerolinewidth\": 2}, \"yaxis\": {\"automargin\": true, \"gridcolor\": \"white\", \"linecolor\": \"white\", \"ticks\": \"\", \"title\": {\"standoff\": 15}, \"zerolinecolor\": \"white\", \"zerolinewidth\": 2}}}, \"title\": {\"text\": \"Fatalities By Terrorism\"}},\n",
       "                        {\"responsive\": true}\n",
       "                    ).then(function(){\n",
       "                            \n",
       "var gd = document.getElementById('6ecd450a-9143-4ce3-879d-50e8c8e951ac');\n",
       "var x = new MutationObserver(function (mutations, observer) {{\n",
       "        var display = window.getComputedStyle(gd).display;\n",
       "        if (!display || display === 'none') {{\n",
       "            console.log([gd, 'removed!']);\n",
       "            Plotly.purge(gd);\n",
       "            observer.disconnect();\n",
       "        }}\n",
       "}});\n",
       "\n",
       "// Listen for the removal of the full notebook cells\n",
       "var notebookContainer = gd.closest('#notebook-container');\n",
       "if (notebookContainer) {{\n",
       "    x.observe(notebookContainer, {childList: true});\n",
       "}}\n",
       "\n",
       "// Listen for the clearing of the current output cell\n",
       "var outputEl = gd.closest('.output');\n",
       "if (outputEl) {{\n",
       "    x.observe(outputEl, {childList: true});\n",
       "}}\n",
       "\n",
       "                        })\n",
       "                };\n",
       "                });\n",
       "            </script>\n",
       "        </div>"
      ]
     },
     "metadata": {},
     "output_type": "display_data"
    }
   ],
   "source": [
    "\n",
    "dfc = list()\n",
    "for i in set(df[\"country_txt\"]):\n",
    "    if i != \"Soviet Union\":\n",
    "        dfc.append( [i, df[df[\"country_txt\"] == i][\"nkill\"].sum()] )\n",
    "    \n",
    "   \n",
    "fig = px.choropleth( dfc, locationmode = 'country names' ,locations=0, title = \"Fatalities By Terrorism\" ,color = 1, color_continuous_scale=px.colors.sequential.Hot)\n",
    "fig.show()"
   ]
  },
  {
   "cell_type": "markdown",
   "id": "historic-category",
   "metadata": {},
   "source": [
    "**Note iraq did not turn into a body of water, its just very very \"hot\".**"
   ]
  },
  {
   "cell_type": "code",
   "execution_count": 30,
   "id": "cooked-myanmar",
   "metadata": {},
   "outputs": [
    {
     "data": {
      "image/png": "[encoded data removed]",
      "text/plain": [
       "<Figure size 1512x936 with 1 Axes>"
      ]
     },
     "metadata": {},
     "output_type": "display_data"
    }
   ],
   "source": [
    "sns.set(rc={'figure.figsize':(21,13)})\n",
    "\n",
    "\n",
    "ax = sns.countplot( x = df[\"year\"], palette = \"YlOrBr\"  )\n",
    "ax.set(ylabel = \"Number Of Attacks\",xlabel='Years',  title = \"Number of terrorism attacks over the years\"  )\n",
    "ax.set_xticklabels( ax.get_xticklabels(), rotation=45)\n",
    "\n",
    "\n",
    "None"
   ]
  },
  {
   "cell_type": "markdown",
   "id": "interior-tractor",
   "metadata": {},
   "source": [
    "**Observe that terrorist attacks where quite low by the 2001 attack. Then as we can see it started to spike in 2004 and an all time peak at 2014. This is quite interesting to me, because as a kid growing up in the 2000's, I thought that decade was defined by terror. Yet the data indicates it's a low point.** "
   ]
  },
  {
   "cell_type": "code",
   "execution_count": 44,
   "id": "working-gallery",
   "metadata": {},
   "outputs": [
    {
     "data": {
      "image/png": "[encoded data removed]",
      "text/plain": [
       "<Figure size 360x576 with 1 Axes>"
      ]
     },
     "metadata": {},
     "output_type": "display_data"
    }
   ],
   "source": [
    "sns.set(rc={'figure.figsize':(5,8)})\n",
    "ax = sns.countplot( y = df[\"gname\"] ,   order = df['gname'].value_counts().iloc[:10].index ).set(ylabel = \"Terroist Organisations\", title = \"Most prolific terrorist organizations\",xlabel='Number Of Attacks' )\n"
   ]
  },
  {
   "cell_type": "markdown",
   "id": "unexpected-intelligence",
   "metadata": {},
   "source": [
    "**As we can see the vast majority of the attack have unkon origins. Next we observe that we can create sets of these orginsations.**\n",
    "\n",
    "**Religious Extremist = Talibanm, Al-Shabaab, Boko haram**\n",
    "\n",
    "**left wing Extremist =  Shining Path, New peoples army, (Farc), (FMLN)**\n",
    "\n",
    "**Independents movement = IRA**"
   ]
  },
  {
   "cell_type": "markdown",
   "id": "official-penny",
   "metadata": {},
   "source": [
    "## Countrys"
   ]
  },
  {
   "cell_type": "code",
   "execution_count": 45,
   "id": "representative-aspect",
   "metadata": {},
   "outputs": [
    {
     "data": {
      "image/png": "[encoded data removed]",
      "text/plain": [
       "<Figure size 360x576 with 1 Axes>"
      ]
     },
     "metadata": {},
     "output_type": "display_data"
    }
   ],
   "source": [
    "sns.set(rc={'figure.figsize':(5,8)})\n",
    "ax = sns.countplot( y = df[\"country_txt\"] ,   order = df['country_txt'].value_counts().iloc[:10].index ).set(ylabel = \"Country\", title = \"Countrys with the most terrorism\",xlabel='Number Of Attacks' )\n",
    "\n"
   ]
  },
  {
   "cell_type": "markdown",
   "id": "local-tobacco",
   "metadata": {},
   "source": [
    "**As you can see the top 5 countries for terrorist attacks. The only one here that seems surprising to me is India. The top 3 where all involved in the war on terror so they make sense. Furthermore due to Colombias cartel problem, them being in the top 5 is not that surprisings either. Let us take a little more detailed look at these countries. Lastly we can see that the uk is the only \"Western\" country in the top 10.** "
   ]
  },
  {
   "cell_type": "markdown",
   "id": "loose-bangkok",
   "metadata": {},
   "source": [
    "## More Detail on the top five countries "
   ]
  },
  {
   "cell_type": "markdown",
   "id": "listed-trance",
   "metadata": {},
   "source": [
    "### Iraq"
   ]
  },
  {
   "cell_type": "code",
   "execution_count": 8,
   "id": "terminal-accommodation",
   "metadata": {},
   "outputs": [
    {
     "name": "stdout",
     "output_type": "stream",
     "text": [
      "Number of terrorist attacks 24636 From 1970 to 2000\n",
      "\n",
      "\n",
      "Most common attacks Iraq\n",
      "\n",
      "Bombing/Explosion  with  18286   \n",
      "Armed Assault  with  3155   \n",
      "Assassination  with  1287   \n",
      "Hostage Taking (Kidnapping)  with  946   \n",
      "Unknown  with  765   \n",
      "\n",
      "\n",
      "Most active orgnisations Iraq\n",
      "\n",
      "Unknown  with  18520  attacks \n",
      "Islamic State of Iraq and the Levant (ISIL)  with  4797  attacks \n",
      "Al-Qaida in Iraq  with  632  attacks \n",
      "Islamic State of Iraq (ISI)  with  145  attacks \n",
      "Asa'ib Ahl al-Haqq  with  67  attacks \n",
      "\n",
      "\n",
      "Number of deaths due to terrorism : 78589.0\n",
      "\n"
     ]
    },
    {
     "data": {
      "image/png": "[encoded data removed]",
      "text/plain": [
       "<Figure size 1152x576 with 1 Axes>"
      ]
     },
     "metadata": {},
     "output_type": "display_data"
    }
   ],
   "source": [
    "foo.cont(\"Iraq\" , df)"
   ]
  },
  {
   "cell_type": "markdown",
   "id": "revolutionary-mexican",
   "metadata": {},
   "source": [
    "**As You can see, terrorism in iraq was almost non existant till the war on terror started. Then once saddam hussein was dethroned, we see isis starts to take off.**"
   ]
  },
  {
   "cell_type": "markdown",
   "id": "caroline-enlargement",
   "metadata": {},
   "source": [
    "### Pakistan"
   ]
  },
  {
   "cell_type": "code",
   "execution_count": 9,
   "id": "another-defendant",
   "metadata": {},
   "outputs": [
    {
     "name": "stdout",
     "output_type": "stream",
     "text": [
      "Number of terrorist attacks 14368 From 1970 to 2000\n",
      "\n",
      "\n",
      "Most common attacks Pakistan\n",
      "\n",
      "Bombing/Explosion  with  7613   \n",
      "Armed Assault  with  3859   \n",
      "Assassination  with  1406   \n",
      "Hostage Taking (Kidnapping)  with  823   \n",
      "Facility/Infrastructure Attack  with  300   \n",
      "\n",
      "\n",
      "Most active orgnisations Pakistan\n",
      "\n",
      "Unknown  with  10891  attacks \n",
      "Tehrik-i-Taliban Pakistan (TTP)  with  1335  attacks \n",
      "Baloch Republican Army (BRA)  with  312  attacks \n",
      "Baloch Liberation Front (BLF)  with  185  attacks \n",
      "Baloch Liberation Army (BLA)  with  181  attacks \n",
      "\n",
      "\n",
      "Number of deaths due to terrorism : 23822.0\n",
      "\n"
     ]
    },
    {
     "data": {
      "image/png": "[encoded data removed]",
      "text/plain": [
       "<Figure size 1152x576 with 1 Axes>"
      ]
     },
     "metadata": {},
     "output_type": "display_data"
    }
   ],
   "source": [
    "foo.cont(\"Pakistan\" , df)"
   ]
  },
  {
   "cell_type": "markdown",
   "id": "applied-liberal",
   "metadata": {},
   "source": [
    "**Next we observe that the vast majority of attack are unknown. Then we see the Taliban where quite active. Yet whats interesting to me it the Baloch groups, an ethnic minority in Pakistan around 6.8 million people. In which the majority live in a resource Rich region, and certain groups demand more share of the wealth** "
   ]
  },
  {
   "cell_type": "markdown",
   "id": "boolean-found",
   "metadata": {},
   "source": [
    "### India"
   ]
  },
  {
   "cell_type": "code",
   "execution_count": 10,
   "id": "apparent-chest",
   "metadata": {},
   "outputs": [
    {
     "name": "stdout",
     "output_type": "stream",
     "text": [
      "Number of terrorist attacks 11960 From 1970 to 2000\n",
      "\n",
      "\n",
      "Most common attacks India\n",
      "\n",
      "Bombing/Explosion  with  4825   \n",
      "Armed Assault  with  3184   \n",
      "Assassination  with  1229   \n",
      "Hostage Taking (Kidnapping)  with  1184   \n",
      "Facility/Infrastructure Attack  with  996   \n",
      "\n",
      "\n",
      "Most active orgnisations India\n",
      "\n",
      "Unknown  with  4263  attacks \n",
      "Communist Party of India - Maoist (CPI-Maoist)  with  1877  attacks \n",
      "Maoists  with  1396  attacks \n",
      "Sikh Extremists  with  710  attacks \n",
      "United Liberation Front of Assam (ULFA)  with  357  attacks \n",
      "\n",
      "\n",
      "Number of deaths due to terrorism : 19341.0\n",
      "\n"
     ]
    },
    {
     "data": {
      "image/png": "[encoded data removed]",
      "text/plain": [
       "<Figure size 1152x576 with 1 Axes>"
      ]
     },
     "metadata": {},
     "output_type": "display_data"
    }
   ],
   "source": [
    "foo.cont(\"India\" , df)"
   ]
  },
  {
   "cell_type": "markdown",
   "id": "thirty-cleanup",
   "metadata": {},
   "source": [
    "**There are a couple of interesting results here. Firstly despite the religious tensions, left wing extremism  dominates. Next is the, is even though we would think that Maoism is a relic of a by gone path. The figure below shows that, if anything its a recent phenomenon in India.**"
   ]
  },
  {
   "cell_type": "code",
   "execution_count": 47,
   "id": "favorite-disaster",
   "metadata": {},
   "outputs": [
    {
     "data": {
      "image/png": "[encoded data removed]",
      "text/plain": [
       "<Figure size 792x576 with 1 Axes>"
      ]
     },
     "metadata": {},
     "output_type": "display_data"
    }
   ],
   "source": [
    "sns.set(rc={'figure.figsize':(11,8)})\n",
    "ax = sns.countplot( x = df[ (df[\"gname\"] == \"Maoists\") & (df[\"country_txt\"] == \"India\")][\"year\"] , palette = \"YlOrBr\", )\n",
    "ax.set(ylabel = \"Number Of Attacks\",xlabel='Years', title = \"Maoists activity in India\"  )\n",
    "ax.set_xticklabels( ax.get_xticklabels(), rotation=45)\n",
    "None"
   ]
  },
  {
   "cell_type": "code",
   "execution_count": null,
   "id": "reflected-alaska",
   "metadata": {},
   "outputs": [],
   "source": [
    "### Colombia"
   ]
  },
  {
   "cell_type": "code",
   "execution_count": 11,
   "id": "strange-stand",
   "metadata": {},
   "outputs": [
    {
     "name": "stdout",
     "output_type": "stream",
     "text": [
      "Number of terrorist attacks 8306 From 1970 to 2000\n",
      "\n",
      "\n",
      "Most common attacks Colombia\n",
      "\n",
      "Bombing/Explosion  with  3128   \n",
      "Armed Assault  with  1972   \n",
      "Assassination  with  1343   \n",
      "Hostage Taking (Kidnapping)  with  1058   \n",
      "Unknown  with  394   \n",
      "\n",
      "\n",
      "Most active orgnisations Colombia\n",
      "\n",
      "Revolutionary Armed Forces of Colombia (FARC)  with  2468  attacks \n",
      "Unknown  with  2070  attacks \n",
      "National Liberation Army of Colombia (ELN)  with  1529  attacks \n",
      "M-19 (Movement of April 19)  with  543  attacks \n",
      "Narco-Terrorists  with  349  attacks \n",
      "\n",
      "\n",
      "Number of deaths due to terrorism : 14698.0\n",
      "\n"
     ]
    },
    {
     "data": {
      "image/png": "[encoded data removed]",
      "text/plain": [
       "<Figure size 1152x576 with 1 Axes>"
      ]
     },
     "metadata": {},
     "output_type": "display_data"
    }
   ],
   "source": [
    "foo.cont(\"Colombia\" , df)"
   ]
  },
  {
   "cell_type": "markdown",
   "id": "deadly-holder",
   "metadata": {},
   "source": [
    "**As you can see the FARC and ELN, make up the top two known terrorist organization's in Columbia and both of which are left wing extremist. This seems to agree with our graph, because the majority of our attack happened during the cold war. We also can see that M-19, was the third most active. Which was a group who claimed the presidential elections of 1970 was fraudulent and sought to reinstate the form dictator Gustavo Rojas Pinilla.**"
   ]
  }
 ],
 "metadata": {
  "kernelspec": {
   "display_name": "Python 3",
   "language": "python",
   "name": "python3"
  },
  "language_info": {
   "codemirror_mode": {
    "name": "ipython",
    "version": 3
   },
   "file_extension": ".py",
   "mimetype": "text/x-python",
   "name": "python",
   "nbconvert_exporter": "python",
   "pygments_lexer": "ipython3",
   "version": "3.8.0"
  }
 },
 "nbformat": 4,
 "nbformat_minor": 5
}
