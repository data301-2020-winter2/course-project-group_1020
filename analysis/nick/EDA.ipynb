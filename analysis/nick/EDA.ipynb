{
 "cells": [
  {
   "cell_type": "markdown",
   "id": "recovered-cathedral",
   "metadata": {},
   "source": [
    "# Nicholas EDA "
   ]
  },
  {
   "cell_type": "markdown",
   "id": "overhead-weekly",
   "metadata": {},
   "source": [
    "## Set up "
   ]
  },
  {
   "cell_type": "code",
   "execution_count": 1,
   "id": "modified-horse",
   "metadata": {},
   "outputs": [],
   "source": [
    "import numpy as np\n",
    "import pandas as pd \n",
    "import matplotlib as plt\n",
    "import seaborn as sns\n",
    "from pandas_profiling import ProfileReport\n",
    "\n",
    "#To Load in our project_funcitons\n",
    "import importlib.util\n",
    "spec = importlib.util.spec_from_file_location(\"project_functions\", \"/Users/Work/Data Science/course-project-group_1020/analysis/scripts/project_functions.py\")\n",
    "foo = importlib.util.module_from_spec(spec)\n",
    "spec.loader.exec_module(foo)\n",
    "df = foo.getData(r\"/Users/Work/Desktop/terrorism.csv\")\n",
    "\n",
    "\n",
    "sns.set_theme( style = \"darkgrid\" )"
   ]
  },
  {
   "cell_type": "markdown",
   "id": "embedded-respect",
   "metadata": {},
   "source": [
    "## Quick peak.\n",
    "**Now let us take a peek at our data**"
   ]
  },
  {
   "cell_type": "code",
   "execution_count": 2,
   "id": "conditional-vacuum",
   "metadata": {},
   "outputs": [
    {
     "data": {
      "text/html": [
       "<div>\n",
       "<style scoped>\n",
       "    .dataframe tbody tr th:only-of-type {\n",
       "        vertical-align: middle;\n",
       "    }\n",
       "\n",
       "    .dataframe tbody tr th {\n",
       "        vertical-align: top;\n",
       "    }\n",
       "\n",
       "    .dataframe thead th {\n",
       "        text-align: right;\n",
       "    }\n",
       "</style>\n",
       "<table border=\"1\" class=\"dataframe\">\n",
       "  <thead>\n",
       "    <tr style=\"text-align: right;\">\n",
       "      <th></th>\n",
       "      <th>id</th>\n",
       "      <th>year</th>\n",
       "      <th>month</th>\n",
       "      <th>day</th>\n",
       "      <th>country_txt</th>\n",
       "      <th>region_txt</th>\n",
       "      <th>provstate</th>\n",
       "      <th>city</th>\n",
       "      <th>latitude</th>\n",
       "      <th>longitude</th>\n",
       "      <th>...</th>\n",
       "      <th>ransom</th>\n",
       "      <th>ransomamt</th>\n",
       "      <th>ransomamtus</th>\n",
       "      <th>ransompaid</th>\n",
       "      <th>ransompaidus</th>\n",
       "      <th>ransomnote</th>\n",
       "      <th>hostkidoutcome</th>\n",
       "      <th>hostkidoutcome_txt</th>\n",
       "      <th>nreleased</th>\n",
       "      <th>dbsource</th>\n",
       "    </tr>\n",
       "  </thead>\n",
       "  <tbody>\n",
       "    <tr>\n",
       "      <th>0</th>\n",
       "      <td>197000000001</td>\n",
       "      <td>1970</td>\n",
       "      <td>7.0</td>\n",
       "      <td>2.0</td>\n",
       "      <td>Dominican Republic</td>\n",
       "      <td>Central America &amp; Caribbean</td>\n",
       "      <td>NaN</td>\n",
       "      <td>Santo Domingo</td>\n",
       "      <td>18.456792</td>\n",
       "      <td>-69.951164</td>\n",
       "      <td>...</td>\n",
       "      <td>False</td>\n",
       "      <td>NaN</td>\n",
       "      <td>NaN</td>\n",
       "      <td>NaN</td>\n",
       "      <td>NaN</td>\n",
       "      <td>NaN</td>\n",
       "      <td>NaN</td>\n",
       "      <td>NaN</td>\n",
       "      <td>NaN</td>\n",
       "      <td>PGIS</td>\n",
       "    </tr>\n",
       "    <tr>\n",
       "      <th>1</th>\n",
       "      <td>197000000002</td>\n",
       "      <td>1970</td>\n",
       "      <td>0.0</td>\n",
       "      <td>0.0</td>\n",
       "      <td>Mexico</td>\n",
       "      <td>North America</td>\n",
       "      <td>Federal</td>\n",
       "      <td>Mexico city</td>\n",
       "      <td>19.371887</td>\n",
       "      <td>-99.086624</td>\n",
       "      <td>...</td>\n",
       "      <td>True</td>\n",
       "      <td>800000.0</td>\n",
       "      <td>NaN</td>\n",
       "      <td>NaN</td>\n",
       "      <td>NaN</td>\n",
       "      <td>NaN</td>\n",
       "      <td>NaN</td>\n",
       "      <td>NaN</td>\n",
       "      <td>NaN</td>\n",
       "      <td>PGIS</td>\n",
       "    </tr>\n",
       "    <tr>\n",
       "      <th>2</th>\n",
       "      <td>197001000001</td>\n",
       "      <td>1970</td>\n",
       "      <td>1.0</td>\n",
       "      <td>0.0</td>\n",
       "      <td>Philippines</td>\n",
       "      <td>Southeast Asia</td>\n",
       "      <td>Tarlac</td>\n",
       "      <td>Unknown</td>\n",
       "      <td>15.478598</td>\n",
       "      <td>120.599741</td>\n",
       "      <td>...</td>\n",
       "      <td>False</td>\n",
       "      <td>NaN</td>\n",
       "      <td>NaN</td>\n",
       "      <td>NaN</td>\n",
       "      <td>NaN</td>\n",
       "      <td>NaN</td>\n",
       "      <td>NaN</td>\n",
       "      <td>NaN</td>\n",
       "      <td>NaN</td>\n",
       "      <td>PGIS</td>\n",
       "    </tr>\n",
       "    <tr>\n",
       "      <th>3</th>\n",
       "      <td>197001000002</td>\n",
       "      <td>1970</td>\n",
       "      <td>1.0</td>\n",
       "      <td>0.0</td>\n",
       "      <td>Greece</td>\n",
       "      <td>Western Europe</td>\n",
       "      <td>Attica</td>\n",
       "      <td>Athens</td>\n",
       "      <td>37.99749</td>\n",
       "      <td>23.762728</td>\n",
       "      <td>...</td>\n",
       "      <td>False</td>\n",
       "      <td>NaN</td>\n",
       "      <td>NaN</td>\n",
       "      <td>NaN</td>\n",
       "      <td>NaN</td>\n",
       "      <td>NaN</td>\n",
       "      <td>NaN</td>\n",
       "      <td>NaN</td>\n",
       "      <td>NaN</td>\n",
       "      <td>PGIS</td>\n",
       "    </tr>\n",
       "    <tr>\n",
       "      <th>4</th>\n",
       "      <td>197001000003</td>\n",
       "      <td>1970</td>\n",
       "      <td>1.0</td>\n",
       "      <td>0.0</td>\n",
       "      <td>Japan</td>\n",
       "      <td>East Asia</td>\n",
       "      <td>Fukouka</td>\n",
       "      <td>Fukouka</td>\n",
       "      <td>33.580412</td>\n",
       "      <td>130.396361</td>\n",
       "      <td>...</td>\n",
       "      <td>False</td>\n",
       "      <td>NaN</td>\n",
       "      <td>NaN</td>\n",
       "      <td>NaN</td>\n",
       "      <td>NaN</td>\n",
       "      <td>NaN</td>\n",
       "      <td>NaN</td>\n",
       "      <td>NaN</td>\n",
       "      <td>NaN</td>\n",
       "      <td>PGIS</td>\n",
       "    </tr>\n",
       "  </tbody>\n",
       "</table>\n",
       "<p>5 rows × 51 columns</p>\n",
       "</div>"
      ],
      "text/plain": [
       "             id  year  month  day         country_txt  \\\n",
       "0  197000000001  1970    7.0  2.0  Dominican Republic   \n",
       "1  197000000002  1970    0.0  0.0              Mexico   \n",
       "2  197001000001  1970    1.0  0.0         Philippines   \n",
       "3  197001000002  1970    1.0  0.0              Greece   \n",
       "4  197001000003  1970    1.0  0.0               Japan   \n",
       "\n",
       "                    region_txt provstate           city   latitude  \\\n",
       "0  Central America & Caribbean       NaN  Santo Domingo  18.456792   \n",
       "1                North America   Federal    Mexico city  19.371887   \n",
       "2               Southeast Asia    Tarlac        Unknown  15.478598   \n",
       "3               Western Europe    Attica         Athens   37.99749   \n",
       "4                    East Asia   Fukouka        Fukouka  33.580412   \n",
       "\n",
       "    longitude  ...  ransom ransomamt  ransomamtus  ransompaid  ransompaidus  \\\n",
       "0  -69.951164  ...   False       NaN          NaN         NaN           NaN   \n",
       "1  -99.086624  ...    True  800000.0          NaN         NaN           NaN   \n",
       "2  120.599741  ...   False       NaN          NaN         NaN           NaN   \n",
       "3   23.762728  ...   False       NaN          NaN         NaN           NaN   \n",
       "4  130.396361  ...   False       NaN          NaN         NaN           NaN   \n",
       "\n",
       "   ransomnote hostkidoutcome hostkidoutcome_txt nreleased dbsource  \n",
       "0         NaN            NaN                NaN       NaN     PGIS  \n",
       "1         NaN            NaN                NaN       NaN     PGIS  \n",
       "2         NaN            NaN                NaN       NaN     PGIS  \n",
       "3         NaN            NaN                NaN       NaN     PGIS  \n",
       "4         NaN            NaN                NaN       NaN     PGIS  \n",
       "\n",
       "[5 rows x 51 columns]"
      ]
     },
     "execution_count": 2,
     "metadata": {},
     "output_type": "execute_result"
    }
   ],
   "source": [
    "df.head()"
   ]
  },
  {
   "cell_type": "code",
   "execution_count": 3,
   "id": "democratic-challenge",
   "metadata": {},
   "outputs": [
    {
     "data": {
      "text/html": [
       "<div>\n",
       "<style scoped>\n",
       "    .dataframe tbody tr th:only-of-type {\n",
       "        vertical-align: middle;\n",
       "    }\n",
       "\n",
       "    .dataframe tbody tr th {\n",
       "        vertical-align: top;\n",
       "    }\n",
       "\n",
       "    .dataframe thead th {\n",
       "        text-align: right;\n",
       "    }\n",
       "</style>\n",
       "<table border=\"1\" class=\"dataframe\">\n",
       "  <thead>\n",
       "    <tr style=\"text-align: right;\">\n",
       "      <th></th>\n",
       "      <th>year</th>\n",
       "      <th>month</th>\n",
       "      <th>day</th>\n",
       "      <th>specificity</th>\n",
       "      <th>nperps</th>\n",
       "      <th>nkill</th>\n",
       "      <th>nkillus</th>\n",
       "      <th>nkillter</th>\n",
       "      <th>nwound</th>\n",
       "      <th>nwoundus</th>\n",
       "      <th>nwoundte</th>\n",
       "      <th>propextent</th>\n",
       "      <th>propvalue</th>\n",
       "      <th>ransomamt</th>\n",
       "      <th>ransompaid</th>\n",
       "      <th>ransompaidus</th>\n",
       "    </tr>\n",
       "  </thead>\n",
       "  <tbody>\n",
       "    <tr>\n",
       "      <th>count</th>\n",
       "      <td>181691.000000</td>\n",
       "      <td>181691.000000</td>\n",
       "      <td>181691.000000</td>\n",
       "      <td>181685.000000</td>\n",
       "      <td>28356.000000</td>\n",
       "      <td>171378.000000</td>\n",
       "      <td>117245.000000</td>\n",
       "      <td>114733.000000</td>\n",
       "      <td>165380.000000</td>\n",
       "      <td>116989.000000</td>\n",
       "      <td>112548.000000</td>\n",
       "      <td>64065.000000</td>\n",
       "      <td>1.037600e+04</td>\n",
       "      <td>1.099000e+03</td>\n",
       "      <td>4.510000e+02</td>\n",
       "      <td>528.000000</td>\n",
       "    </tr>\n",
       "    <tr>\n",
       "      <th>mean</th>\n",
       "      <td>2002.638997</td>\n",
       "      <td>6.467277</td>\n",
       "      <td>15.505644</td>\n",
       "      <td>1.451452</td>\n",
       "      <td>32.170440</td>\n",
       "      <td>2.403272</td>\n",
       "      <td>0.045981</td>\n",
       "      <td>0.508058</td>\n",
       "      <td>3.167668</td>\n",
       "      <td>0.038944</td>\n",
       "      <td>0.107163</td>\n",
       "      <td>3.295403</td>\n",
       "      <td>7.849073e+05</td>\n",
       "      <td>3.897125e+06</td>\n",
       "      <td>1.232196e+06</td>\n",
       "      <td>255.634470</td>\n",
       "    </tr>\n",
       "    <tr>\n",
       "      <th>std</th>\n",
       "      <td>13.259430</td>\n",
       "      <td>3.388303</td>\n",
       "      <td>8.814045</td>\n",
       "      <td>0.995430</td>\n",
       "      <td>412.375875</td>\n",
       "      <td>11.545741</td>\n",
       "      <td>5.681854</td>\n",
       "      <td>4.199937</td>\n",
       "      <td>35.949392</td>\n",
       "      <td>3.057361</td>\n",
       "      <td>1.488881</td>\n",
       "      <td>0.486912</td>\n",
       "      <td>3.008737e+07</td>\n",
       "      <td>3.344492e+07</td>\n",
       "      <td>1.327112e+07</td>\n",
       "      <td>3006.294428</td>\n",
       "    </tr>\n",
       "    <tr>\n",
       "      <th>min</th>\n",
       "      <td>1970.000000</td>\n",
       "      <td>0.000000</td>\n",
       "      <td>0.000000</td>\n",
       "      <td>1.000000</td>\n",
       "      <td>0.000000</td>\n",
       "      <td>0.000000</td>\n",
       "      <td>0.000000</td>\n",
       "      <td>0.000000</td>\n",
       "      <td>0.000000</td>\n",
       "      <td>0.000000</td>\n",
       "      <td>0.000000</td>\n",
       "      <td>1.000000</td>\n",
       "      <td>0.000000e+00</td>\n",
       "      <td>0.000000e+00</td>\n",
       "      <td>0.000000e+00</td>\n",
       "      <td>0.000000</td>\n",
       "    </tr>\n",
       "    <tr>\n",
       "      <th>25%</th>\n",
       "      <td>1991.000000</td>\n",
       "      <td>4.000000</td>\n",
       "      <td>8.000000</td>\n",
       "      <td>1.000000</td>\n",
       "      <td>1.000000</td>\n",
       "      <td>0.000000</td>\n",
       "      <td>0.000000</td>\n",
       "      <td>0.000000</td>\n",
       "      <td>0.000000</td>\n",
       "      <td>0.000000</td>\n",
       "      <td>0.000000</td>\n",
       "      <td>3.000000</td>\n",
       "      <td>5.000000e+03</td>\n",
       "      <td>0.000000e+00</td>\n",
       "      <td>0.000000e+00</td>\n",
       "      <td>0.000000</td>\n",
       "    </tr>\n",
       "    <tr>\n",
       "      <th>50%</th>\n",
       "      <td>2009.000000</td>\n",
       "      <td>6.000000</td>\n",
       "      <td>15.000000</td>\n",
       "      <td>1.000000</td>\n",
       "      <td>2.000000</td>\n",
       "      <td>0.000000</td>\n",
       "      <td>0.000000</td>\n",
       "      <td>0.000000</td>\n",
       "      <td>0.000000</td>\n",
       "      <td>0.000000</td>\n",
       "      <td>0.000000</td>\n",
       "      <td>3.000000</td>\n",
       "      <td>2.480000e+04</td>\n",
       "      <td>6.000000e+04</td>\n",
       "      <td>0.000000e+00</td>\n",
       "      <td>0.000000</td>\n",
       "    </tr>\n",
       "    <tr>\n",
       "      <th>75%</th>\n",
       "      <td>2014.000000</td>\n",
       "      <td>9.000000</td>\n",
       "      <td>23.000000</td>\n",
       "      <td>1.000000</td>\n",
       "      <td>6.000000</td>\n",
       "      <td>2.000000</td>\n",
       "      <td>0.000000</td>\n",
       "      <td>0.000000</td>\n",
       "      <td>2.000000</td>\n",
       "      <td>0.000000</td>\n",
       "      <td>0.000000</td>\n",
       "      <td>4.000000</td>\n",
       "      <td>5.000000e+04</td>\n",
       "      <td>6.247582e+05</td>\n",
       "      <td>7.787500e+04</td>\n",
       "      <td>0.000000</td>\n",
       "    </tr>\n",
       "    <tr>\n",
       "      <th>max</th>\n",
       "      <td>2017.000000</td>\n",
       "      <td>12.000000</td>\n",
       "      <td>31.000000</td>\n",
       "      <td>5.000000</td>\n",
       "      <td>25000.000000</td>\n",
       "      <td>1570.000000</td>\n",
       "      <td>1360.000000</td>\n",
       "      <td>500.000000</td>\n",
       "      <td>8191.000000</td>\n",
       "      <td>751.000000</td>\n",
       "      <td>200.000000</td>\n",
       "      <td>4.000000</td>\n",
       "      <td>2.700000e+09</td>\n",
       "      <td>1.000000e+09</td>\n",
       "      <td>2.750000e+08</td>\n",
       "      <td>48000.000000</td>\n",
       "    </tr>\n",
       "  </tbody>\n",
       "</table>\n",
       "</div>"
      ],
      "text/plain": [
       "                year          month            day    specificity  \\\n",
       "count  181691.000000  181691.000000  181691.000000  181685.000000   \n",
       "mean     2002.638997       6.467277      15.505644       1.451452   \n",
       "std        13.259430       3.388303       8.814045       0.995430   \n",
       "min      1970.000000       0.000000       0.000000       1.000000   \n",
       "25%      1991.000000       4.000000       8.000000       1.000000   \n",
       "50%      2009.000000       6.000000      15.000000       1.000000   \n",
       "75%      2014.000000       9.000000      23.000000       1.000000   \n",
       "max      2017.000000      12.000000      31.000000       5.000000   \n",
       "\n",
       "             nperps          nkill        nkillus       nkillter  \\\n",
       "count  28356.000000  171378.000000  117245.000000  114733.000000   \n",
       "mean      32.170440       2.403272       0.045981       0.508058   \n",
       "std      412.375875      11.545741       5.681854       4.199937   \n",
       "min        0.000000       0.000000       0.000000       0.000000   \n",
       "25%        1.000000       0.000000       0.000000       0.000000   \n",
       "50%        2.000000       0.000000       0.000000       0.000000   \n",
       "75%        6.000000       2.000000       0.000000       0.000000   \n",
       "max    25000.000000    1570.000000    1360.000000     500.000000   \n",
       "\n",
       "              nwound       nwoundus       nwoundte    propextent  \\\n",
       "count  165380.000000  116989.000000  112548.000000  64065.000000   \n",
       "mean        3.167668       0.038944       0.107163      3.295403   \n",
       "std        35.949392       3.057361       1.488881      0.486912   \n",
       "min         0.000000       0.000000       0.000000      1.000000   \n",
       "25%         0.000000       0.000000       0.000000      3.000000   \n",
       "50%         0.000000       0.000000       0.000000      3.000000   \n",
       "75%         2.000000       0.000000       0.000000      4.000000   \n",
       "max      8191.000000     751.000000     200.000000      4.000000   \n",
       "\n",
       "          propvalue     ransomamt    ransompaid  ransompaidus  \n",
       "count  1.037600e+04  1.099000e+03  4.510000e+02    528.000000  \n",
       "mean   7.849073e+05  3.897125e+06  1.232196e+06    255.634470  \n",
       "std    3.008737e+07  3.344492e+07  1.327112e+07   3006.294428  \n",
       "min    0.000000e+00  0.000000e+00  0.000000e+00      0.000000  \n",
       "25%    5.000000e+03  0.000000e+00  0.000000e+00      0.000000  \n",
       "50%    2.480000e+04  6.000000e+04  0.000000e+00      0.000000  \n",
       "75%    5.000000e+04  6.247582e+05  7.787500e+04      0.000000  \n",
       "max    2.700000e+09  1.000000e+09  2.750000e+08  48000.000000  "
      ]
     },
     "execution_count": 3,
     "metadata": {},
     "output_type": "execute_result"
    }
   ],
   "source": [
    "df.describe()"
   ]
  },
  {
   "cell_type": "markdown",
   "id": "defined-innocent",
   "metadata": {},
   "source": [
    "## Describing the coluums."
   ]
  },
  {
   "cell_type": "markdown",
   "id": "freelance-shakespeare",
   "metadata": {},
   "source": [
    "So theres alot here so i will walk us throught some of the columns, for more infromation look at the code book, /pdfs\n",
    "\n",
    "\n",
    "\n",
    "\n",
    "{Year, mounth and day}: self explanitory however somtimes the date and mounth are not know, in whcih case we ge an NaN value.\n",
    "\n",
    "{country_txt, region_txt, provstate, city, latitude\n",
    ", longitude}: Where the attacks occured.\n",
    "\n",
    "Specificity: How accurate our location data is.\n",
    "\n",
    "nperps: Amount of terrorist agents involved.\n",
    "\n",
    "nkill: Total amount of fatalities.\n",
    "\n",
    "nkillus: Number of us citizens killed.\n",
    "\n",
    "nkillter: Number of Terrorist agents killed. \n",
    "\n",
    "nwound: Total number of pepole injured.\n",
    "\n",
    "nwoundus: Total number of us citizns killed.\n",
    "\n",
    "nwoundte: Number of Terrorist agents wonded.\n",
    "\n",
    "propextent: The extent of property damange\n",
    "\n",
    "propvalue: An estimation of the cost of the dammage \n",
    "\n",
    "ransomamt: How much randsom was damanded \n",
    "\n",
    "ransompaid: How much was randsom was paid "
   ]
  },
  {
   "cell_type": "markdown",
   "id": "activated-tracy",
   "metadata": {},
   "source": [
    "## Pandas Profile Report"
   ]
  },
  {
   "cell_type": "code",
   "execution_count": 4,
   "id": "south-donor",
   "metadata": {},
   "outputs": [
    {
     "data": {
      "application/vnd.jupyter.widget-view+json": {
       "model_id": "63f08729fee04a2b8700df9479c61e2c",
       "version_major": 2,
       "version_minor": 0
      },
      "text/plain": [
       "Summarize dataset:   0%|          | 0/59 [00:00<?, ?it/s]"
      ]
     },
     "metadata": {},
     "output_type": "display_data"
    },
    {
     "data": {
      "application/vnd.jupyter.widget-view+json": {
       "model_id": "641ec3fbe31d424f98c0999be3bef901",
       "version_major": 2,
       "version_minor": 0
      },
      "text/plain": [
       "Generate report structure:   0%|          | 0/1 [00:00<?, ?it/s]"
      ]
     },
     "metadata": {},
     "output_type": "display_data"
    },
    {
     "data": {
      "application/vnd.jupyter.widget-view+json": {
       "model_id": "b96d8bc331c641749a30f783ae66e17c",
       "version_major": 2,
       "version_minor": 0
      },
      "text/plain": [
       "Render HTML:   0%|          | 0/1 [00:00<?, ?it/s]"
      ]
     },
     "metadata": {},
     "output_type": "display_data"
    },
    {
     "data": {
      "application/vnd.jupyter.widget-view+json": {
       "model_id": "e157e0a3673a45d494f96fd544ebd9db",
       "version_major": 2,
       "version_minor": 0
      },
      "text/plain": [
       "Export report to file:   0%|          | 0/1 [00:00<?, ?it/s]"
      ]
     },
     "metadata": {},
     "output_type": "display_data"
    }
   ],
   "source": [
    "prof = ProfileReport(df, minimal=True)\n",
    "prof.to_file(output_file='profileReport.html')"
   ]
  },
  {
   "cell_type": "markdown",
   "id": "institutional-privilege",
   "metadata": {},
   "source": [
    "## Overview "
   ]
  },
  {
   "cell_type": "markdown",
   "id": "everyday-weapon",
   "metadata": {},
   "source": [
    "## Going though collumns "
   ]
  },
  {
   "cell_type": "code",
   "execution_count": 5,
   "id": "cooked-myanmar",
   "metadata": {},
   "outputs": [
    {
     "data": {
      "image/png": "[encoded data removed]",
      "text/plain": [
       "<Figure size 1512x936 with 1 Axes>"
      ]
     },
     "metadata": {},
     "output_type": "display_data"
    }
   ],
   "source": [
    "sns.set(rc={'figure.figsize':(21,13)})\n",
    "\n",
    "\n",
    "ax = sns.countplot( x = df[\"year\"]  )\n",
    "ax.set(ylabel = \"Country\",xlabel='Number Of Attacks'  )\n",
    "ax.set_xticklabels( ax.get_xticklabels(), rotation=45)\n",
    "\n",
    "\n",
    "None"
   ]
  },
  {
   "cell_type": "markdown",
   "id": "interior-tractor",
   "metadata": {},
   "source": [
    "**Observe that terrorist attacks where quite low by the 2001 attack. Then as we can see it started to spike in 2004 and an all time peak at 2014.**"
   ]
  },
  {
   "cell_type": "markdown",
   "id": "official-penny",
   "metadata": {},
   "source": [
    "## Countrys"
   ]
  },
  {
   "cell_type": "code",
   "execution_count": 7,
   "id": "representative-aspect",
   "metadata": {},
   "outputs": [
    {
     "data": {
      "image/png": "[encoded data removed]",
      "text/plain": [
       "<Figure size 360x576 with 1 Axes>"
      ]
     },
     "metadata": {},
     "output_type": "display_data"
    }
   ],
   "source": [
    "sns.set(rc={'figure.figsize':(5,8)})\n",
    "ax = sns.countplot( y = df[\"country_txt\"] , order = df['country_txt'].value_counts().iloc[:5].index ).set(ylabel = \"Country\",xlabel='Number Of Attacks')"
   ]
  },
  {
   "cell_type": "markdown",
   "id": "local-tobacco",
   "metadata": {},
   "source": [
    "**As you can see the top 5 countrys for terrorist attacks. The only one here that seems surprising to me is india. The top 3 where all involed in the war on terror so they make sense. Furthmore due to Colombias cartel problem, them being in the top 5 is not that surprisings. Let us take a little more detailed look at these countrys.** "
   ]
  },
  {
   "cell_type": "code",
   "execution_count": 8,
   "id": "terminal-accommodation",
   "metadata": {},
   "outputs": [
    {
     "name": "stdout",
     "output_type": "stream",
     "text": [
      "Number of terrorist attacks 24636 From 1970 to 2000\n",
      "\n",
      "\n",
      "Most common attacks Iraq\n",
      "\n",
      "Bombing/Explosion  with  18286   \n",
      "Armed Assault  with  3155   \n",
      "Assassination  with  1287   \n",
      "Hostage Taking (Kidnapping)  with  946   \n",
      "Unknown  with  765   \n",
      "\n",
      "\n",
      "Most active orgnisations Iraq\n",
      "\n",
      "Unknown  with  18520  attacks \n",
      "Islamic State of Iraq and the Levant (ISIL)  with  4797  attacks \n",
      "Al-Qaida in Iraq  with  632  attacks \n",
      "Islamic State of Iraq (ISI)  with  145  attacks \n",
      "Asa'ib Ahl al-Haqq  with  67  attacks \n",
      "\n",
      "\n",
      "Number of deaths due to terrorism : 78589.0\n",
      "\n"
     ]
    },
    {
     "data": {
      "image/png": "[encoded data removed]",
      "text/plain": [
       "<Figure size 1152x576 with 1 Axes>"
      ]
     },
     "metadata": {},
     "output_type": "display_data"
    }
   ],
   "source": [
    "foo.cont(\"Iraq\" , df)"
   ]
  },
  {
   "cell_type": "code",
   "execution_count": 9,
   "id": "another-defendant",
   "metadata": {},
   "outputs": [
    {
     "name": "stdout",
     "output_type": "stream",
     "text": [
      "Number of terrorist attacks 14368 From 1970 to 2000\n",
      "\n",
      "\n",
      "Most common attacks Pakistan\n",
      "\n",
      "Bombing/Explosion  with  7613   \n",
      "Armed Assault  with  3859   \n",
      "Assassination  with  1406   \n",
      "Hostage Taking (Kidnapping)  with  823   \n",
      "Facility/Infrastructure Attack  with  300   \n",
      "\n",
      "\n",
      "Most active orgnisations Pakistan\n",
      "\n",
      "Unknown  with  10891  attacks \n",
      "Tehrik-i-Taliban Pakistan (TTP)  with  1335  attacks \n",
      "Baloch Republican Army (BRA)  with  312  attacks \n",
      "Baloch Liberation Front (BLF)  with  185  attacks \n",
      "Baloch Liberation Army (BLA)  with  181  attacks \n",
      "\n",
      "\n",
      "Number of deaths due to terrorism : 23822.0\n",
      "\n"
     ]
    },
    {
     "data": {
      "image/png": "[encoded data removed]",
      "text/plain": [
       "<Figure size 1152x576 with 1 Axes>"
      ]
     },
     "metadata": {},
     "output_type": "display_data"
    }
   ],
   "source": [
    "foo.cont(\"Pakistan\" , df)"
   ]
  },
  {
   "cell_type": "code",
   "execution_count": 10,
   "id": "apparent-chest",
   "metadata": {},
   "outputs": [
    {
     "name": "stdout",
     "output_type": "stream",
     "text": [
      "Number of terrorist attacks 11960 From 1970 to 2000\n",
      "\n",
      "\n",
      "Most common attacks India\n",
      "\n",
      "Bombing/Explosion  with  4825   \n",
      "Armed Assault  with  3184   \n",
      "Assassination  with  1229   \n",
      "Hostage Taking (Kidnapping)  with  1184   \n",
      "Facility/Infrastructure Attack  with  996   \n",
      "\n",
      "\n",
      "Most active orgnisations India\n",
      "\n",
      "Unknown  with  4263  attacks \n",
      "Communist Party of India - Maoist (CPI-Maoist)  with  1877  attacks \n",
      "Maoists  with  1396  attacks \n",
      "Sikh Extremists  with  710  attacks \n",
      "United Liberation Front of Assam (ULFA)  with  357  attacks \n",
      "\n",
      "\n",
      "Number of deaths due to terrorism : 19341.0\n",
      "\n"
     ]
    },
    {
     "data": {
      "image/png": "[encoded data removed]",
      "text/plain": [
       "<Figure size 1152x576 with 1 Axes>"
      ]
     },
     "metadata": {},
     "output_type": "display_data"
    }
   ],
   "source": [
    "foo.cont(\"India\" , df)"
   ]
  },
  {
   "cell_type": "code",
   "execution_count": 11,
   "id": "strange-stand",
   "metadata": {},
   "outputs": [
    {
     "name": "stdout",
     "output_type": "stream",
     "text": [
      "Number of terrorist attacks 8306 From 1970 to 2000\n",
      "\n",
      "\n",
      "Most common attacks Colombia\n",
      "\n",
      "Bombing/Explosion  with  3128   \n",
      "Armed Assault  with  1972   \n",
      "Assassination  with  1343   \n",
      "Hostage Taking (Kidnapping)  with  1058   \n",
      "Unknown  with  394   \n",
      "\n",
      "\n",
      "Most active orgnisations Colombia\n",
      "\n",
      "Revolutionary Armed Forces of Colombia (FARC)  with  2468  attacks \n",
      "Unknown  with  2070  attacks \n",
      "National Liberation Army of Colombia (ELN)  with  1529  attacks \n",
      "M-19 (Movement of April 19)  with  543  attacks \n",
      "Narco-Terrorists  with  349  attacks \n",
      "\n",
      "\n",
      "Number of deaths due to terrorism : 14698.0\n",
      "\n"
     ]
    },
    {
     "data": {
      "image/png": "[encoded data removed]",
      "text/plain": [
       "<Figure size 1152x576 with 1 Axes>"
      ]
     },
     "metadata": {},
     "output_type": "display_data"
    }
   ],
   "source": [
    "foo.cont(\"Colombia\" , df)"
   ]
  },
  {
   "cell_type": "markdown",
   "id": "deadly-holder",
   "metadata": {},
   "source": [
    "**Some things worth noteing is that political movements are seem more popular that expeced "
   ]
  },
  {
   "cell_type": "code",
   "execution_count": null,
   "id": "raising-variable",
   "metadata": {},
   "outputs": [],
   "source": [
    "## Success\n",
    "ax = sns.countplot( x = df[\"success\"] , order = df['success'].value_counts().iloc[:5].index, palette= palet ).set(ylabel = \"Count\",xlabel='Result')"
   ]
  },
  {
   "cell_type": "markdown",
   "id": "celtic-salvation",
   "metadata": {},
   "source": [
    "This is by far the most surprising result for me. Its worth noteing that it is not mesured by the larger out come but rather by wither or not the attack went as planed."
   ]
  },
  {
   "cell_type": "code",
   "execution_count": null,
   "id": "overhead-official",
   "metadata": {},
   "outputs": [],
   "source": []
  },
  {
   "cell_type": "code",
   "execution_count": null,
   "id": "clear-mustang",
   "metadata": {},
   "outputs": [],
   "source": []
  }
 ],
 "metadata": {
  "kernelspec": {
   "display_name": "Python 3",
   "language": "python",
   "name": "python3"
  },
  "language_info": {
   "codemirror_mode": {
    "name": "ipython",
    "version": 3
   },
   "file_extension": ".py",
   "mimetype": "text/x-python",
   "name": "python",
   "nbconvert_exporter": "python",
   "pygments_lexer": "ipython3",
   "version": "3.8.0"
  }
 },
 "nbformat": 4,
 "nbformat_minor": 5
}
