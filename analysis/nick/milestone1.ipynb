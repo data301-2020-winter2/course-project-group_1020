{
 "cells": [
  {
   "cell_type": "code",
   "execution_count": 3,
   "id": "tired-battery",
   "metadata": {},
   "outputs": [],
   "source": [
    "from pandas import *\n",
    "import collections\n",
    "\n",
    "df = read_csv(r\"/Users/Work/course-project-group_1020/data/processed/terrorism_clean.csv\", sep=',' , error_bad_lines=False, index_col=False, dtype='unicode')\n",
    "\n",
    "#print(set(df[\"country_txt\"]))"
   ]
  },
  {
   "cell_type": "code",
   "execution_count": 12,
   "id": "awful-ecology",
   "metadata": {},
   "outputs": [
    {
     "name": "stdout",
     "output_type": "stream",
     "text": [
      "Number of terrorist attacks 2693 From 1970 to 2000\n",
      "\n",
      "\n",
      "Most active groupa France\n",
      "\n",
      "Unknown  with  979  attacks \n",
      "Corsican National Liberation Front (FLNC)  with  637  attacks \n",
      "Corsican National Liberation Front- Historic Channel  with  128  attacks \n",
      "Separatists  with  84  attacks \n",
      "Resistenza  with  73  attacks \n",
      "\n",
      "\n",
      "Number of deaths due to terrorism : 534.0\n",
      "\n",
      "Most common attack type\n",
      "\n",
      "Bombing/Explosion  with  2092  attacks \n",
      "Facility/Infrastructure Attack  with  188  attacks \n",
      "Assassination  with  165  attacks \n",
      "Armed Assault  with  127  attacks \n",
      "Unknown  with  52  attacks \n",
      "\n",
      " \n",
      "Year of the most attacks  1996\n"
     ]
    }
   ],
   "source": [
    "def col_with_count( data, col):\n",
    "    \n",
    "    li = list()\n",
    "    for i in set( data[ col]):\n",
    "        li.append( [ i ,  len( data[data[col] == i]) ] )\n",
    "    \n",
    "    li = sorted(li, reverse=True ,key=lambda x:x[1])\n",
    "    \n",
    "    return li\n",
    "    \n",
    "\n",
    "\n",
    "\n",
    "def cont(st):\n",
    "    df2 = df[ df[\"country_txt\"] == st]\n",
    "    \n",
    "    print( \"Number of terrorist attacks\", len(df2), \"From 1970 to 2000\",end = \"\\n\" *3 ) \n",
    "    \n",
    "    \n",
    "\n",
    "    \n",
    "    groups = col_with_count(df2, \"gname\")\n",
    "    \n",
    "\n",
    "    \n",
    "    print(\"Most active groupa\", st, end = \"\\n\" * 2)\n",
    "    for i in range(0, 5):\n",
    "        print( groups[i][0], \" with \", groups[i][1], \" attacks \"  )\n",
    "    \n",
    "    print(end = \"\\n\" *2)\n",
    "    \n",
    "    \n",
    "    \n",
    "    \n",
    "    print(\"Number of deaths due to terrorism :\", sum(to_numeric(df2[\"nkill\"]).dropna()),end = \"\\n\" * 2 )\n",
    "    \n",
    "    attack = col_with_count(df2, \"attacktype_txt\")\n",
    "    \n",
    "    print(\"Most common attack type\", end = \"\\n\" *2)\n",
    "    for i in range(0, 5):\n",
    "        print( attack[i][0], \" with \", attack[i][1], \" attacks \"  )\n",
    "    \n",
    "    print( \"\\n \\nYear of the most attacks \", col_with_count(df2, \"year\")[0][0] )\n",
    "\n",
    "cont(\"France\")"
   ]
  },
  {
   "cell_type": "code",
   "execution_count": 35,
   "id": "phantom-westminster",
   "metadata": {},
   "outputs": [
    {
     "data": {
      "text/plain": [
       "(array([6., 3., 4., 2., 2., 1., 7., 5., 2., 2., 0., 1., 4., 2., 0., 0., 0.,\n",
       "        0., 0., 0., 0., 0., 0., 1., 0., 0., 0., 0., 0., 1., 0., 0., 0., 1.,\n",
       "        0., 0., 0., 1., 0., 0., 0., 1., 0., 0., 0., 0., 1.]),\n",
       " array([  471.        ,   820.61702128,  1170.23404255,  1519.85106383,\n",
       "         1869.46808511,  2219.08510638,  2568.70212766,  2918.31914894,\n",
       "         3267.93617021,  3617.55319149,  3967.17021277,  4316.78723404,\n",
       "         4666.40425532,  5016.0212766 ,  5365.63829787,  5715.25531915,\n",
       "         6064.87234043,  6414.4893617 ,  6764.10638298,  7113.72340426,\n",
       "         7463.34042553,  7812.95744681,  8162.57446809,  8512.19148936,\n",
       "         8861.80851064,  9211.42553191,  9561.04255319,  9910.65957447,\n",
       "        10260.27659574, 10609.89361702, 10959.5106383 , 11309.12765957,\n",
       "        11658.74468085, 12008.36170213, 12357.9787234 , 12707.59574468,\n",
       "        13057.21276596, 13406.82978723, 13756.44680851, 14106.06382979,\n",
       "        14455.68085106, 14805.29787234, 15154.91489362, 15504.53191489,\n",
       "        15854.14893617, 16203.76595745, 16553.38297872, 16903.        ]),\n",
       " <a list of 47 Patch objects>)"
      ]
     },
     "execution_count": 35,
     "metadata": {},
     "output_type": "execute_result"
    },
    {
     "data": {
      "image/png": "[encoded data removed]",
      "text/plain": [
       "<Figure size 432x288 with 1 Axes>"
      ]
     },
     "metadata": {
      "needs_background": "light"
     },
     "output_type": "display_data"
    }
   ],
   "source": [
    "import matplotlib.pyplot as plt\n",
    "\n",
    "h =  [  len(df[df[\"year\"] == i])  for i in set(df[\"year\"])]\n",
    "\n",
    "\n",
    "\n",
    "plt.hist( h  , 47)\n",
    "\n"
   ]
  },
  {
   "cell_type": "code",
   "execution_count": null,
   "id": "attached-pierre",
   "metadata": {},
   "outputs": [],
   "source": []
  }
 ],
 "metadata": {
  "kernelspec": {
   "display_name": "Python 3",
   "language": "python",
   "name": "python3"
  },
  "language_info": {
   "codemirror_mode": {
    "name": "ipython",
    "version": 3
   },
   "file_extension": ".py",
   "mimetype": "text/x-python",
   "name": "python",
   "nbconvert_exporter": "python",
   "pygments_lexer": "ipython3",
   "version": "3.8.0"
  }
 },
 "nbformat": 4,
 "nbformat_minor": 5
}
