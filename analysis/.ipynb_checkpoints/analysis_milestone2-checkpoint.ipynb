{
 "cells": [
  {
   "cell_type": "code",
   "execution_count": null,
   "metadata": {},
   "outputs": [],
   "source": [
    "dfc = list()\n",
    "for i in set(df[\"country\"]):\n",
    "    if i != \"Soviet Union\":\n",
    "        dfc.append( [i, df[df[\"country\"] == i][\"nkill\"].sum()] )\n",
    "\n",
    "fig = px.choropleth(dfc, \n",
    "                    locationmode = 'country names', \n",
    "                    locations=0, \n",
    "                    title = \"Fatalities By Terrorism\", \n",
    "                    color = 1, \n",
    "                    color_continuous_scale=px.colors.sequential.OrRd\n",
    "                   )\n",
    "fig.update_layout(margin=dict(l=30, r=30, t=30, b=30),\n",
    "                  paper_bgcolor=\"White\",\n",
    "                 )\n",
    "fig.show()"
   ]
  },
  {
   "cell_type": "code",
   "execution_count": null,
   "metadata": {},
   "outputs": [],
   "source": [
    "fig = px.density_mapbox(df,\n",
    "                        lat= df[\"latitude\"], \n",
    "                        lon= df[\"longitude\"],\n",
    "                        radius=5,\n",
    "                        title = \"Terrorist Attacks Around The World\",\n",
    "                        hover_name = \"gname\",\n",
    "                        hover_data= [\"nkill\", \"nwound\", \"target\", \"propextent_txt\" ,\"weapontype\" , \"attacktype\"],\n",
    "                        animation_frame = \"year\",\n",
    "                        color_continuous_scale = px.colors.sequential.Hot\n",
    "                       )\n",
    "\n",
    "fig.update_layout(mapbox_style=\"carto-darkmatter\",\n",
    "                  height=750,\n",
    "                  margin={\"r\":30,\"t\":30,\"l\":30,\"b\":30}\n",
    "                 )\n",
    "fig.show()\n",
    "\n",
    "#fig.write_html(\"Terrorism_Map.html\")"
   ]
  }
 ],
 "metadata": {
  "kernelspec": {
   "display_name": "Python 3",
   "language": "python",
   "name": "python3"
  },
  "language_info": {
   "codemirror_mode": {
    "name": "ipython",
    "version": 3
   },
   "file_extension": ".py",
   "mimetype": "text/x-python",
   "name": "python",
   "nbconvert_exporter": "python",
   "pygments_lexer": "ipython3",
   "version": "3.8.5"
  }
 },
 "nbformat": 4,
 "nbformat_minor": 4
}
