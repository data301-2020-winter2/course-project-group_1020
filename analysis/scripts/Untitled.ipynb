{
 "cells": [
  {
   "cell_type": "markdown",
   "id": "ranking-contrary",
   "metadata": {},
   "source": [
    "<h2>Appendix: Leftover Charts"
   ]
  },
  {
   "cell_type": "code",
   "execution_count": null,
   "id": "integrated-armstrong",
   "metadata": {},
   "outputs": [],
   "source": [
    "countplt, ax = plt.pyplot.subplots(figsize = (12,7))\n",
    "ax = (sns.countplot(y=df['region'],\n",
    "                    hue=df['success'],\n",
    "                    order=df['region'].value_counts().index,\n",
    "                    palette='icefire',\n",
    "                    dodge=True\n",
    "                   )\n",
    "         .set_title('Success Rates of Terrorism')\n",
    "     )\n",
    "plt.pyplot.gca().spines['top'].set_visible(False)\n",
    "plt.pyplot.gca().spines['right'].set_visible(False)\n",
    "plt.pyplot.legend(loc=\"center right\", fontsize='medium', title='Successful', title_fontsize='medium')b"
   ]
  },
  {
   "cell_type": "code",
   "execution_count": null,
   "id": "structured-color",
   "metadata": {},
   "outputs": [],
   "source": [
    "countplt, ax = plt.pyplot.subplots(figsize = (12,9))\n",
    "weu_df = df[df['region'] == \"Western Europe\"]\n",
    "ax = (sns.countplot(y=weu_df['targettype'],\n",
    "                    order=weu_df['targettype'].value_counts().index,\n",
    "                    palette='rocket')\n",
    "         .set_title('Target Types of Terroristic Attacks in Western Europe')\n",
    "     )\n",
    "plt.pyplot.gca().spines['top'].set_visible(False)\n",
    "plt.pyplot.gca().spines['right'].set_visible(False)\n",
    "plt.pyplot.ylabel('Target Type')"
   ]
  },
  {
   "cell_type": "code",
   "execution_count": null,
   "id": "tutorial-convertible",
   "metadata": {},
   "outputs": [],
   "source": [
    "countplt, ax = plt.pyplot.subplots(figsize = (12,9))\n",
    "\n",
    "weu_df = df[df['region'] == \"Western Europe\"]\n",
    "weu_df = weu_df.assign(records = \"international\")\n",
    "weu_df.loc[weu_df['country'] == weu_df['nationality'], \"records\"] = \"domestic\"\n",
    "ax = (sns.countplot(y=weu_df['targettype'],\n",
    "                    hue=weu_df['records'],\n",
    "                    order=weu_df['targettype'].value_counts().iloc[:10].index,\n",
    "                    hue_order=weu_df['records'].value_counts().index,\n",
    "                    palette='icefire')\n",
    "         .set_title('Target Types of Terroristic Attacks in Western Europe')\n",
    "     )\n",
    "plt.pyplot.gca().spines['top'].set_visible(False)\n",
    "plt.pyplot.gca().spines['right'].set_visible(False)\n",
    "plt.pyplot.ylabel('Target Type')"
   ]
  },
  {
   "cell_type": "code",
   "execution_count": null,
   "id": "native-vessel",
   "metadata": {},
   "outputs": [],
   "source": [
    "countplt, ax = plt.pyplot.subplots(figsize = (10,10))\n",
    "t_n = t_n[t_n['weaponsubtype'] != 'Other Explosive Type']\n",
    "ax = (sns.countplot(y=t_n['weaponsubtype'],\n",
    "                    order=t_n['weaponsubtype'].value_counts().iloc[:12].index,\n",
    "                    palette='rocket')\n",
    "         .set_title('Weapon Types in Western Europe of Non-domestic Nationality')\n",
    "     )\n",
    "plt.pyplot.gca().spines['top'].set_visible(False)\n",
    "plt.pyplot.gca().spines['right'].set_visible(False)\n",
    "plt.pyplot.ylabel('Weapon Type')"
   ]
  },
  {
   "cell_type": "code",
   "execution_count": null,
   "id": "danish-function",
   "metadata": {},
   "outputs": [],
   "source": [
    "countplt, ax = plt.pyplot.subplots(figsize = (12,9))\n",
    "\n",
    "int_df = df.assign(records = \"international\")\n",
    "int_df.loc[int_df['country'] == int_df['nationality'], \"records\"] = \"domestic\"\n",
    "\n",
    "ax = (sns.countplot(y=int_df['targettype'],\n",
    "                    hue=int_df['records'],\n",
    "                    palette='rocket')\n",
    "         .set_title('Terroristic Attacks Against Domestic or International Targets')\n",
    "     )\n",
    "plt.pyplot.gca().spines['top'].set_visible(False)\n",
    "plt.pyplot.gca().spines['right'].set_visible(False)\n",
    "plt.pyplot.ylabel('Target Type')"
   ]
  },
  {
   "cell_type": "code",
   "execution_count": null,
   "id": "engaging-incident",
   "metadata": {},
   "outputs": [],
   "source": [
    "s_df = df[df['region'] == \"Middle East & North Africa\"]\n",
    "countplt, ax = plt.pyplot.subplots(figsize = (8,4))\n",
    "ax = (sns.countplot(y=s_df['attacktype'],\n",
    "                    palette='rocket')\n",
    "         .set_title('Terroristic Attacks by Attack Type in Middle East and North Africa (sum)')\n",
    "     )\n",
    "plt.pyplot.gca().spines['top'].set_visible(False)\n",
    "plt.pyplot.gca().spines['right'].set_visible(False)\n",
    "plt.pyplot.ylabel('Attack Type')"
   ]
  },
  {
   "cell_type": "code",
   "execution_count": null,
   "id": "bigger-structure",
   "metadata": {},
   "outputs": [],
   "source": [
    "plt.pyplot.figure(figsize=(16,13))\n",
    "c_t = s_df[['attacktype','year']]\n",
    "country_terrorism = (c_t.groupby(c_t.columns.tolist())\n",
    "                        .size().reset_index()\n",
    "                        .rename(columns={0:'records'})\n",
    "                    )\n",
    "country_terrorism = pd.pivot_table(country_terrorism, index='attacktype', columns='year', values='records')\n",
    "plt.pyplot.title('Terroristic Attacks by Attack Type in Middle East and North Africa (range)')\n",
    "sns.heatmap(country_terrorism, robust=True)"
   ]
  },
  {
   "cell_type": "code",
   "execution_count": null,
   "id": "charged-porcelain",
   "metadata": {},
   "outputs": [],
   "source": [
    "countplt, ax = plt.pyplot.subplots(figsize = (8,6))\n",
    "exp_df = df[df['weapontype'] == 'Explosives']\n",
    "ax = (sns.countplot(y=exp_df['weaponsubtype'],\n",
    "                    order=exp_df['weaponsubtype'].value_counts().index,\n",
    "                    palette='rocket')\n",
    "         .set_title('Terroristic Attacks by Subweapons of Explosives')\n",
    "     )\n",
    "plt.pyplot.gca().spines['top'].set_visible(False)\n",
    "plt.pyplot.gca().spines['right'].set_visible(False)\n",
    "plt.pyplot.ylabel('Weapon Sub Type')"
   ]
  },
  {
   "cell_type": "code",
   "execution_count": null,
   "id": "responsible-compromise",
   "metadata": {},
   "outputs": [],
   "source": [
    "plt.pyplot.figure(figsize=(24,13))\n",
    "s_exp_df = df[(df['region'] == \"Middle East & North Africa\") & (df['weapontype'] == 'Explosives') & (df['weaponsubtype'] != 'Unknown Explosive Type')]\n",
    "c_t = s_exp_df[['weaponsubtype','year']]\n",
    "country_terrorism = (c_t.groupby(c_t.columns.tolist())\n",
    "                        .size().reset_index()\n",
    "                        .rename(columns={0:'records'})\n",
    "                    )\n",
    "country_terrorism = pd.pivot_table(country_terrorism, index='weaponsubtype', columns='year', values='records')\n",
    "plt.pyplot.title('Terroristic Attacks by Subweapons of Explosvies in the Middle East and Africa')\n",
    "sns.heatmap(country_terrorism, robust=True)"
   ]
  },
  {
   "cell_type": "code",
   "execution_count": null,
   "id": "hazardous-favorite",
   "metadata": {},
   "outputs": [],
   "source": [
    "plt.pyplot.figure(figsize=(30,13))\n",
    "c_t = df[['region','attacktype']]\n",
    "country_terrorism = (c_t.groupby(c_t.columns.tolist())\n",
    "                        .size().reset_index()\n",
    "                        .rename(columns={0:'records'})\n",
    "                    )\n",
    "country_terrorism = pd.pivot_table(country_terrorism, index='attacktype', columns='region', values='records')\n",
    "plt.pyplot.title('Attack Types of Terroristic Attacks')\n",
    "sns.heatmap(country_terrorism, robust=True, annot=True, fmt='d', linewidth=1)"
   ]
  },
  {
   "cell_type": "code",
   "execution_count": null,
   "id": "focal-divide",
   "metadata": {},
   "outputs": [],
   "source": [
    "plt.pyplot.figure(figsize=(30,13))\n",
    "c_t = df[['region','targettype']]\n",
    "country_terrorism = (c_t.groupby(c_t.columns.tolist())\n",
    "                        .size().reset_index()\n",
    "                        .rename(columns={0:'records'})\n",
    "                    )\n",
    "country_terrorism = pd.pivot_table(country_terrorism, index='targettype', columns='region', values='records')\n",
    "plt.pyplot.title('Target Types of Terroristic Attacks')\n",
    "sns.heatmap(country_terrorism, robust=True, annot=True, fmt='.0f', linewidth=1)"
   ]
  },
  {
   "cell_type": "code",
   "execution_count": null,
   "id": "rising-bikini",
   "metadata": {},
   "outputs": [],
   "source": [
    "plt.pyplot.figure(figsize=(30,13))\n",
    "c_t = df[['region','weapontype']]\n",
    "country_terrorism = (c_t.groupby(c_t.columns.tolist())\n",
    "                        .size().reset_index()\n",
    "                        .rename(columns={0:'records'})\n",
    "                    )\n",
    "country_terrorism = pd.pivot_table(country_terrorism, index='weapontype', columns='region', values='records')\n",
    "plt.pyplot.title('Weapon Types of Terroristic Attacks')\n",
    "sns.heatmap(country_terrorism, robust=True, annot=True, fmt='.0f', linewidth=1)"
   ]
  },
  {
   "cell_type": "code",
   "execution_count": null,
   "id": "authorized-characterization",
   "metadata": {},
   "outputs": [],
   "source": [
    "countplt, ax = plt.pyplot.subplots(figsize = (12,9))\n",
    "ax = (sns.countplot(y=df['targettype'],\n",
    "                    order=df['targettype'].value_counts().index,\n",
    "                    palette='rocket')\n",
    "         .set_title('Target Types of Terroristic Attacks')\n",
    "     )\n",
    "plt.pyplot.gca().spines['top'].set_visible(False)\n",
    "plt.pyplot.gca().spines['right'].set_visible(False)\n",
    "plt.pyplot.ylabel('Target Type')"
   ]
  }
 ],
 "metadata": {
  "kernelspec": {
   "display_name": "Python 3",
   "language": "python",
   "name": "python3"
  },
  "language_info": {
   "codemirror_mode": {
    "name": "ipython",
    "version": 3
   },
   "file_extension": ".py",
   "mimetype": "text/x-python",
   "name": "python",
   "nbconvert_exporter": "python",
   "pygments_lexer": "ipython3",
   "version": "3.8.0"
  }
 },
 "nbformat": 4,
 "nbformat_minor": 5
}
